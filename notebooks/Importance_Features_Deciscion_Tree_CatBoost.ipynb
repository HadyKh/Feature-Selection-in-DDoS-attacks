{
 "cells": [
  {
   "cell_type": "markdown",
   "metadata": {},
   "source": [
    "# import Libraries"
   ]
  },
  {
   "cell_type": "code",
   "execution_count": 48,
   "metadata": {},
   "outputs": [],
   "source": [
    "import pandas as pd\n",
    "import numpy as np\n",
    "import matplotlib.pyplot as plt\n",
    "import seaborn as sns\n",
    "from sklearn import metrics\n",
    "from sklearn.model_selection import train_test_split\n",
    "from sklearn.manifold import TSNE\n",
    "from sklearn.preprocessing import LabelEncoder\n",
    "from sklearn.ensemble import RandomForestClassifier\n",
    "from sklearn.metrics import f1_score,accuracy_score,classification_report,confusion_matrix,plot_confusion_matrix,ConfusionMatrixDisplay\n",
    "from sklearn.tree import DecisionTreeClassifier\n",
    "from catboost import CatBoostClassifier\n",
    "from sklearn.linear_model import LogisticRegression\n",
    "import pickle"
   ]
  },
  {
   "cell_type": "markdown",
   "metadata": {},
   "source": [
    "# read data"
   ]
  },
  {
   "cell_type": "code",
   "execution_count": 49,
   "metadata": {},
   "outputs": [
    {
     "name": "stderr",
     "output_type": "stream",
     "text": [
      "C:\\Users\\admin\\AppData\\Local\\Temp\\ipykernel_14256\\492583339.py:2: DtypeWarning: Columns (84) have mixed types. Specify dtype option on import or set low_memory=False.\n",
      "  data_train=pd.read_csv(\"D:/project_cs/training.csv\")\n"
     ]
    }
   ],
   "source": [
    "#data_train=pd.read_csv(\"D:/studies/depi/ottawa/second_term/ai_for_cs/project/dataset/training.csv\")\n",
    "data_train=pd.read_csv(\"D:/project_cs/training.csv\")\n",
    "data_validate=pd.read_csv(\"D:/project_cs/validation.csv\")\n",
    "#data_validate=pd.read_csv(\"D:/studies/depi/ottawa/second_term/ai_for_cs/project/dataset/validation.csv\")"
   ]
  },
  {
   "cell_type": "code",
   "execution_count": 50,
   "metadata": {},
   "outputs": [
    {
     "data": {
      "text/html": [
       "<div>\n",
       "<style scoped>\n",
       "    .dataframe tbody tr th:only-of-type {\n",
       "        vertical-align: middle;\n",
       "    }\n",
       "\n",
       "    .dataframe tbody tr th {\n",
       "        vertical-align: top;\n",
       "    }\n",
       "\n",
       "    .dataframe thead th {\n",
       "        text-align: right;\n",
       "    }\n",
       "</style>\n",
       "<table border=\"1\" class=\"dataframe\">\n",
       "  <thead>\n",
       "    <tr style=\"text-align: right;\">\n",
       "      <th></th>\n",
       "      <th>Flow ID</th>\n",
       "      <th>Source IP</th>\n",
       "      <th>Source Port</th>\n",
       "      <th>Destination IP</th>\n",
       "      <th>Destination Port</th>\n",
       "      <th>Protocol</th>\n",
       "      <th>Timestamp</th>\n",
       "      <th>Flow Duration</th>\n",
       "      <th>Total Fwd Packets</th>\n",
       "      <th>Total Backward Packets</th>\n",
       "      <th>...</th>\n",
       "      <th>Active Std</th>\n",
       "      <th>Active Max</th>\n",
       "      <th>Active Min</th>\n",
       "      <th>Idle Mean</th>\n",
       "      <th>Idle Std</th>\n",
       "      <th>Idle Max</th>\n",
       "      <th>Idle Min</th>\n",
       "      <th>SimillarHTTP</th>\n",
       "      <th>Inbound</th>\n",
       "      <th>Label</th>\n",
       "    </tr>\n",
       "  </thead>\n",
       "  <tbody>\n",
       "    <tr>\n",
       "      <th>0</th>\n",
       "      <td>172.16.0.5-192.168.50.1-746-24675-17</td>\n",
       "      <td>172.16.0.5</td>\n",
       "      <td>746</td>\n",
       "      <td>192.168.50.1</td>\n",
       "      <td>24675</td>\n",
       "      <td>17</td>\n",
       "      <td>2018-12-01 11:07:56.502353</td>\n",
       "      <td>1</td>\n",
       "      <td>2</td>\n",
       "      <td>0</td>\n",
       "      <td>...</td>\n",
       "      <td>0.0</td>\n",
       "      <td>0.0</td>\n",
       "      <td>0.0</td>\n",
       "      <td>0.0</td>\n",
       "      <td>0.0</td>\n",
       "      <td>0.0</td>\n",
       "      <td>0.0</td>\n",
       "      <td>0</td>\n",
       "      <td>1</td>\n",
       "      <td>DrDoS_DNS</td>\n",
       "    </tr>\n",
       "    <tr>\n",
       "      <th>1</th>\n",
       "      <td>172.16.0.5-192.168.50.1-851-5766-17</td>\n",
       "      <td>172.16.0.5</td>\n",
       "      <td>851</td>\n",
       "      <td>192.168.50.1</td>\n",
       "      <td>5766</td>\n",
       "      <td>17</td>\n",
       "      <td>2018-12-01 11:06:32.000712</td>\n",
       "      <td>1</td>\n",
       "      <td>2</td>\n",
       "      <td>0</td>\n",
       "      <td>...</td>\n",
       "      <td>0.0</td>\n",
       "      <td>0.0</td>\n",
       "      <td>0.0</td>\n",
       "      <td>0.0</td>\n",
       "      <td>0.0</td>\n",
       "      <td>0.0</td>\n",
       "      <td>0.0</td>\n",
       "      <td>0</td>\n",
       "      <td>1</td>\n",
       "      <td>DrDoS_DNS</td>\n",
       "    </tr>\n",
       "    <tr>\n",
       "      <th>2</th>\n",
       "      <td>172.16.0.5-192.168.50.1-935-24548-17</td>\n",
       "      <td>172.16.0.5</td>\n",
       "      <td>935</td>\n",
       "      <td>192.168.50.1</td>\n",
       "      <td>24548</td>\n",
       "      <td>17</td>\n",
       "      <td>2018-12-01 11:08:48.524934</td>\n",
       "      <td>1</td>\n",
       "      <td>2</td>\n",
       "      <td>0</td>\n",
       "      <td>...</td>\n",
       "      <td>0.0</td>\n",
       "      <td>0.0</td>\n",
       "      <td>0.0</td>\n",
       "      <td>0.0</td>\n",
       "      <td>0.0</td>\n",
       "      <td>0.0</td>\n",
       "      <td>0.0</td>\n",
       "      <td>0</td>\n",
       "      <td>1</td>\n",
       "      <td>DrDoS_DNS</td>\n",
       "    </tr>\n",
       "    <tr>\n",
       "      <th>3</th>\n",
       "      <td>172.16.0.5-192.168.50.1-719-12510-17</td>\n",
       "      <td>172.16.0.5</td>\n",
       "      <td>719</td>\n",
       "      <td>192.168.50.1</td>\n",
       "      <td>12510</td>\n",
       "      <td>17</td>\n",
       "      <td>2018-12-01 11:13:23.585969</td>\n",
       "      <td>48</td>\n",
       "      <td>2</td>\n",
       "      <td>0</td>\n",
       "      <td>...</td>\n",
       "      <td>0.0</td>\n",
       "      <td>0.0</td>\n",
       "      <td>0.0</td>\n",
       "      <td>0.0</td>\n",
       "      <td>0.0</td>\n",
       "      <td>0.0</td>\n",
       "      <td>0.0</td>\n",
       "      <td>0</td>\n",
       "      <td>1</td>\n",
       "      <td>DrDoS_DNS</td>\n",
       "    </tr>\n",
       "    <tr>\n",
       "      <th>4</th>\n",
       "      <td>172.16.0.5-192.168.50.1-984-61717-17</td>\n",
       "      <td>172.16.0.5</td>\n",
       "      <td>984</td>\n",
       "      <td>192.168.50.1</td>\n",
       "      <td>61717</td>\n",
       "      <td>17</td>\n",
       "      <td>2018-12-01 11:12:57.299430</td>\n",
       "      <td>2</td>\n",
       "      <td>2</td>\n",
       "      <td>0</td>\n",
       "      <td>...</td>\n",
       "      <td>0.0</td>\n",
       "      <td>0.0</td>\n",
       "      <td>0.0</td>\n",
       "      <td>0.0</td>\n",
       "      <td>0.0</td>\n",
       "      <td>0.0</td>\n",
       "      <td>0.0</td>\n",
       "      <td>0</td>\n",
       "      <td>1</td>\n",
       "      <td>DrDoS_DNS</td>\n",
       "    </tr>\n",
       "    <tr>\n",
       "      <th>...</th>\n",
       "      <td>...</td>\n",
       "      <td>...</td>\n",
       "      <td>...</td>\n",
       "      <td>...</td>\n",
       "      <td>...</td>\n",
       "      <td>...</td>\n",
       "      <td>...</td>\n",
       "      <td>...</td>\n",
       "      <td>...</td>\n",
       "      <td>...</td>\n",
       "      <td>...</td>\n",
       "      <td>...</td>\n",
       "      <td>...</td>\n",
       "      <td>...</td>\n",
       "      <td>...</td>\n",
       "      <td>...</td>\n",
       "      <td>...</td>\n",
       "      <td>...</td>\n",
       "      <td>...</td>\n",
       "      <td>...</td>\n",
       "      <td>...</td>\n",
       "    </tr>\n",
       "    <tr>\n",
       "      <th>4001995</th>\n",
       "      <td>172.16.0.5-192.168.50.1-564-874-17</td>\n",
       "      <td>172.16.0.5</td>\n",
       "      <td>564</td>\n",
       "      <td>192.168.50.1</td>\n",
       "      <td>874</td>\n",
       "      <td>17</td>\n",
       "      <td>2018-12-01 11:12:51.786340</td>\n",
       "      <td>1</td>\n",
       "      <td>2</td>\n",
       "      <td>0</td>\n",
       "      <td>...</td>\n",
       "      <td>0.0</td>\n",
       "      <td>0.0</td>\n",
       "      <td>0.0</td>\n",
       "      <td>0.0</td>\n",
       "      <td>0.0</td>\n",
       "      <td>0.0</td>\n",
       "      <td>0.0</td>\n",
       "      <td>0</td>\n",
       "      <td>1</td>\n",
       "      <td>DrDoS_DNS</td>\n",
       "    </tr>\n",
       "    <tr>\n",
       "      <th>4001996</th>\n",
       "      <td>172.16.0.5-192.168.50.1-564-42551-17</td>\n",
       "      <td>172.16.0.5</td>\n",
       "      <td>564</td>\n",
       "      <td>192.168.50.1</td>\n",
       "      <td>42551</td>\n",
       "      <td>17</td>\n",
       "      <td>2018-12-01 11:12:08.057584</td>\n",
       "      <td>47</td>\n",
       "      <td>2</td>\n",
       "      <td>0</td>\n",
       "      <td>...</td>\n",
       "      <td>0.0</td>\n",
       "      <td>0.0</td>\n",
       "      <td>0.0</td>\n",
       "      <td>0.0</td>\n",
       "      <td>0.0</td>\n",
       "      <td>0.0</td>\n",
       "      <td>0.0</td>\n",
       "      <td>0</td>\n",
       "      <td>1</td>\n",
       "      <td>DrDoS_DNS</td>\n",
       "    </tr>\n",
       "    <tr>\n",
       "      <th>4001997</th>\n",
       "      <td>172.16.0.5-192.168.50.1-732-46750-17</td>\n",
       "      <td>172.16.0.5</td>\n",
       "      <td>732</td>\n",
       "      <td>192.168.50.1</td>\n",
       "      <td>46750</td>\n",
       "      <td>17</td>\n",
       "      <td>2018-12-01 11:09:29.349479</td>\n",
       "      <td>1</td>\n",
       "      <td>2</td>\n",
       "      <td>0</td>\n",
       "      <td>...</td>\n",
       "      <td>0.0</td>\n",
       "      <td>0.0</td>\n",
       "      <td>0.0</td>\n",
       "      <td>0.0</td>\n",
       "      <td>0.0</td>\n",
       "      <td>0.0</td>\n",
       "      <td>0.0</td>\n",
       "      <td>0</td>\n",
       "      <td>1</td>\n",
       "      <td>DrDoS_DNS</td>\n",
       "    </tr>\n",
       "    <tr>\n",
       "      <th>4001998</th>\n",
       "      <td>172.16.0.5-192.168.50.1-582-37652-17</td>\n",
       "      <td>172.16.0.5</td>\n",
       "      <td>582</td>\n",
       "      <td>192.168.50.1</td>\n",
       "      <td>37652</td>\n",
       "      <td>17</td>\n",
       "      <td>2018-12-01 11:11:35.320319</td>\n",
       "      <td>2</td>\n",
       "      <td>2</td>\n",
       "      <td>0</td>\n",
       "      <td>...</td>\n",
       "      <td>0.0</td>\n",
       "      <td>0.0</td>\n",
       "      <td>0.0</td>\n",
       "      <td>0.0</td>\n",
       "      <td>0.0</td>\n",
       "      <td>0.0</td>\n",
       "      <td>0.0</td>\n",
       "      <td>0</td>\n",
       "      <td>1</td>\n",
       "      <td>DrDoS_DNS</td>\n",
       "    </tr>\n",
       "    <tr>\n",
       "      <th>4001999</th>\n",
       "      <td>172.16.0.5-192.168.50.1-889-27485-17</td>\n",
       "      <td>172.16.0.5</td>\n",
       "      <td>889</td>\n",
       "      <td>192.168.50.1</td>\n",
       "      <td>27485</td>\n",
       "      <td>17</td>\n",
       "      <td>2018-12-01 11:07:40.298457</td>\n",
       "      <td>2</td>\n",
       "      <td>2</td>\n",
       "      <td>0</td>\n",
       "      <td>...</td>\n",
       "      <td>0.0</td>\n",
       "      <td>0.0</td>\n",
       "      <td>0.0</td>\n",
       "      <td>0.0</td>\n",
       "      <td>0.0</td>\n",
       "      <td>0.0</td>\n",
       "      <td>0.0</td>\n",
       "      <td>0</td>\n",
       "      <td>1</td>\n",
       "      <td>DrDoS_DNS</td>\n",
       "    </tr>\n",
       "  </tbody>\n",
       "</table>\n",
       "<p>4002000 rows × 87 columns</p>\n",
       "</div>"
      ],
      "text/plain": [
       "                                      Flow ID   Source IP  Source Port  \\\n",
       "0        172.16.0.5-192.168.50.1-746-24675-17  172.16.0.5          746   \n",
       "1         172.16.0.5-192.168.50.1-851-5766-17  172.16.0.5          851   \n",
       "2        172.16.0.5-192.168.50.1-935-24548-17  172.16.0.5          935   \n",
       "3        172.16.0.5-192.168.50.1-719-12510-17  172.16.0.5          719   \n",
       "4        172.16.0.5-192.168.50.1-984-61717-17  172.16.0.5          984   \n",
       "...                                       ...         ...          ...   \n",
       "4001995    172.16.0.5-192.168.50.1-564-874-17  172.16.0.5          564   \n",
       "4001996  172.16.0.5-192.168.50.1-564-42551-17  172.16.0.5          564   \n",
       "4001997  172.16.0.5-192.168.50.1-732-46750-17  172.16.0.5          732   \n",
       "4001998  172.16.0.5-192.168.50.1-582-37652-17  172.16.0.5          582   \n",
       "4001999  172.16.0.5-192.168.50.1-889-27485-17  172.16.0.5          889   \n",
       "\n",
       "        Destination IP  Destination Port  Protocol  \\\n",
       "0         192.168.50.1             24675        17   \n",
       "1         192.168.50.1              5766        17   \n",
       "2         192.168.50.1             24548        17   \n",
       "3         192.168.50.1             12510        17   \n",
       "4         192.168.50.1             61717        17   \n",
       "...                ...               ...       ...   \n",
       "4001995   192.168.50.1               874        17   \n",
       "4001996   192.168.50.1             42551        17   \n",
       "4001997   192.168.50.1             46750        17   \n",
       "4001998   192.168.50.1             37652        17   \n",
       "4001999   192.168.50.1             27485        17   \n",
       "\n",
       "                          Timestamp  Flow Duration  Total Fwd Packets  \\\n",
       "0        2018-12-01 11:07:56.502353              1                  2   \n",
       "1        2018-12-01 11:06:32.000712              1                  2   \n",
       "2        2018-12-01 11:08:48.524934              1                  2   \n",
       "3        2018-12-01 11:13:23.585969             48                  2   \n",
       "4        2018-12-01 11:12:57.299430              2                  2   \n",
       "...                             ...            ...                ...   \n",
       "4001995  2018-12-01 11:12:51.786340              1                  2   \n",
       "4001996  2018-12-01 11:12:08.057584             47                  2   \n",
       "4001997  2018-12-01 11:09:29.349479              1                  2   \n",
       "4001998  2018-12-01 11:11:35.320319              2                  2   \n",
       "4001999  2018-12-01 11:07:40.298457              2                  2   \n",
       "\n",
       "         Total Backward Packets  ...  Active Std  Active Max  Active Min  \\\n",
       "0                             0  ...         0.0         0.0         0.0   \n",
       "1                             0  ...         0.0         0.0         0.0   \n",
       "2                             0  ...         0.0         0.0         0.0   \n",
       "3                             0  ...         0.0         0.0         0.0   \n",
       "4                             0  ...         0.0         0.0         0.0   \n",
       "...                         ...  ...         ...         ...         ...   \n",
       "4001995                       0  ...         0.0         0.0         0.0   \n",
       "4001996                       0  ...         0.0         0.0         0.0   \n",
       "4001997                       0  ...         0.0         0.0         0.0   \n",
       "4001998                       0  ...         0.0         0.0         0.0   \n",
       "4001999                       0  ...         0.0         0.0         0.0   \n",
       "\n",
       "         Idle Mean  Idle Std  Idle Max  Idle Min  SimillarHTTP  Inbound  \\\n",
       "0              0.0       0.0       0.0       0.0             0        1   \n",
       "1              0.0       0.0       0.0       0.0             0        1   \n",
       "2              0.0       0.0       0.0       0.0             0        1   \n",
       "3              0.0       0.0       0.0       0.0             0        1   \n",
       "4              0.0       0.0       0.0       0.0             0        1   \n",
       "...            ...       ...       ...       ...           ...      ...   \n",
       "4001995        0.0       0.0       0.0       0.0             0        1   \n",
       "4001996        0.0       0.0       0.0       0.0             0        1   \n",
       "4001997        0.0       0.0       0.0       0.0             0        1   \n",
       "4001998        0.0       0.0       0.0       0.0             0        1   \n",
       "4001999        0.0       0.0       0.0       0.0             0        1   \n",
       "\n",
       "             Label  \n",
       "0        DrDoS_DNS  \n",
       "1        DrDoS_DNS  \n",
       "2        DrDoS_DNS  \n",
       "3        DrDoS_DNS  \n",
       "4        DrDoS_DNS  \n",
       "...            ...  \n",
       "4001995  DrDoS_DNS  \n",
       "4001996  DrDoS_DNS  \n",
       "4001997  DrDoS_DNS  \n",
       "4001998  DrDoS_DNS  \n",
       "4001999  DrDoS_DNS  \n",
       "\n",
       "[4002000 rows x 87 columns]"
      ]
     },
     "execution_count": 50,
     "metadata": {},
     "output_type": "execute_result"
    }
   ],
   "source": [
    "#showing training data\n",
    "data_train"
   ]
  },
  {
   "cell_type": "code",
   "execution_count": 51,
   "metadata": {},
   "outputs": [
    {
     "name": "stdout",
     "output_type": "stream",
     "text": [
      "<class 'pandas.core.frame.DataFrame'>\n",
      "RangeIndex: 4002000 entries, 0 to 4001999\n",
      "Data columns (total 87 columns):\n",
      " #   Column                       Dtype  \n",
      "---  ------                       -----  \n",
      " 0   Flow ID                      object \n",
      " 1   Source IP                    object \n",
      " 2   Source Port                  int64  \n",
      " 3   Destination IP               object \n",
      " 4   Destination Port             int64  \n",
      " 5   Protocol                     int64  \n",
      " 6   Timestamp                    object \n",
      " 7   Flow Duration                int64  \n",
      " 8   Total Fwd Packets            int64  \n",
      " 9   Total Backward Packets       int64  \n",
      " 10  Total Length of Fwd Packets  float64\n",
      " 11  Total Length of Bwd Packets  float64\n",
      " 12  Fwd Packet Length Max        float64\n",
      " 13  Fwd Packet Length Min        float64\n",
      " 14  Fwd Packet Length Mean       float64\n",
      " 15  Fwd Packet Length Std        float64\n",
      " 16  Bwd Packet Length Max        float64\n",
      " 17  Bwd Packet Length Min        float64\n",
      " 18  Bwd Packet Length Mean       float64\n",
      " 19  Bwd Packet Length Std        float64\n",
      " 20  Flow Bytes/s                 float64\n",
      " 21  Flow Packets/s               float64\n",
      " 22  Flow IAT Mean                float64\n",
      " 23  Flow IAT Std                 float64\n",
      " 24  Flow IAT Max                 float64\n",
      " 25  Flow IAT Min                 float64\n",
      " 26  Fwd IAT Total                float64\n",
      " 27  Fwd IAT Mean                 float64\n",
      " 28  Fwd IAT Std                  float64\n",
      " 29  Fwd IAT Max                  float64\n",
      " 30  Fwd IAT Min                  float64\n",
      " 31  Bwd IAT Total                float64\n",
      " 32  Bwd IAT Mean                 float64\n",
      " 33  Bwd IAT Std                  float64\n",
      " 34  Bwd IAT Max                  float64\n",
      " 35  Bwd IAT Min                  float64\n",
      " 36  Fwd PSH Flags                int64  \n",
      " 37  Bwd PSH Flags                int64  \n",
      " 38  Fwd URG Flags                int64  \n",
      " 39  Bwd URG Flags                int64  \n",
      " 40  Fwd Header Length            int64  \n",
      " 41  Bwd Header Length            int64  \n",
      " 42  Fwd Packets/s                float64\n",
      " 43  Bwd Packets/s                float64\n",
      " 44  Min Packet Length            float64\n",
      " 45  Max Packet Length            float64\n",
      " 46  Packet Length Mean           float64\n",
      " 47  Packet Length Std            float64\n",
      " 48  Packet Length Variance       float64\n",
      " 49  FIN Flag Count               int64  \n",
      " 50  SYN Flag Count               int64  \n",
      " 51  RST Flag Count               int64  \n",
      " 52  PSH Flag Count               int64  \n",
      " 53  ACK Flag Count               int64  \n",
      " 54  URG Flag Count               int64  \n",
      " 55  CWE Flag Count               int64  \n",
      " 56  ECE Flag Count               int64  \n",
      " 57  Down/Up Ratio                float64\n",
      " 58  Average Packet Size          float64\n",
      " 59  Avg Fwd Segment Size         float64\n",
      " 60  Avg Bwd Segment Size         float64\n",
      " 61  Fwd Header Length.1          int64  \n",
      " 62  Fwd Avg Bytes/Bulk           int64  \n",
      " 63  Fwd Avg Packets/Bulk         int64  \n",
      " 64  Fwd Avg Bulk Rate            int64  \n",
      " 65  Bwd Avg Bytes/Bulk           int64  \n",
      " 66  Bwd Avg Packets/Bulk         int64  \n",
      " 67  Bwd Avg Bulk Rate            int64  \n",
      " 68  Subflow Fwd Packets          int64  \n",
      " 69  Subflow Fwd Bytes            int64  \n",
      " 70  Subflow Bwd Packets          int64  \n",
      " 71  Subflow Bwd Bytes            int64  \n",
      " 72  Init_Win_bytes_forward       int64  \n",
      " 73  Init_Win_bytes_backward      int64  \n",
      " 74  act_data_pkt_fwd             int64  \n",
      " 75  min_seg_size_forward         int64  \n",
      " 76  Active Mean                  float64\n",
      " 77  Active Std                   float64\n",
      " 78  Active Max                   float64\n",
      " 79  Active Min                   float64\n",
      " 80  Idle Mean                    float64\n",
      " 81  Idle Std                     float64\n",
      " 82  Idle Max                     float64\n",
      " 83  Idle Min                     float64\n",
      " 84  SimillarHTTP                 object \n",
      " 85  Inbound                      int64  \n",
      " 86  Label                        object \n",
      "dtypes: float64(45), int64(36), object(6)\n",
      "memory usage: 2.6+ GB\n"
     ]
    }
   ],
   "source": [
    "#getting some info about training data\n",
    "data_train.info()"
   ]
  },
  {
   "cell_type": "code",
   "execution_count": 11,
   "metadata": {},
   "outputs": [
    {
     "data": {
      "text/html": [
       "<div>\n",
       "<style scoped>\n",
       "    .dataframe tbody tr th:only-of-type {\n",
       "        vertical-align: middle;\n",
       "    }\n",
       "\n",
       "    .dataframe tbody tr th {\n",
       "        vertical-align: top;\n",
       "    }\n",
       "\n",
       "    .dataframe thead th {\n",
       "        text-align: right;\n",
       "    }\n",
       "</style>\n",
       "<table border=\"1\" class=\"dataframe\">\n",
       "  <thead>\n",
       "    <tr style=\"text-align: right;\">\n",
       "      <th></th>\n",
       "      <th>Flow Duration</th>\n",
       "      <th>Total Fwd Packets</th>\n",
       "      <th>Total Backward Packets</th>\n",
       "      <th>Total Length of Fwd Packets</th>\n",
       "      <th>Total Length of Bwd Packets</th>\n",
       "      <th>Fwd Packet Length Max</th>\n",
       "      <th>Fwd Packet Length Min</th>\n",
       "      <th>Fwd Packet Length MeanFwd Packet Length Std</th>\n",
       "      <th>Bwd Packet Length Max</th>\n",
       "      <th>Bwd Packet Length Min</th>\n",
       "      <th>...</th>\n",
       "      <th>Active Mean</th>\n",
       "      <th>Active Std</th>\n",
       "      <th>Active Max</th>\n",
       "      <th>Active Min</th>\n",
       "      <th>Idle Mean</th>\n",
       "      <th>Idle Std</th>\n",
       "      <th>Idle Max</th>\n",
       "      <th>Idle Min</th>\n",
       "      <th>Inbound</th>\n",
       "      <th>Label</th>\n",
       "    </tr>\n",
       "  </thead>\n",
       "  <tbody>\n",
       "    <tr>\n",
       "      <th>0</th>\n",
       "      <td>2</td>\n",
       "      <td>0</td>\n",
       "      <td>2944.0</td>\n",
       "      <td>0.0</td>\n",
       "      <td>1472.0</td>\n",
       "      <td>1472.0</td>\n",
       "      <td>1472.0</td>\n",
       "      <td>0.0</td>\n",
       "      <td>0.0</td>\n",
       "      <td>0.0</td>\n",
       "      <td>...</td>\n",
       "      <td>0.0</td>\n",
       "      <td>0.0</td>\n",
       "      <td>0.0</td>\n",
       "      <td>0.0</td>\n",
       "      <td>0.0</td>\n",
       "      <td>0.0</td>\n",
       "      <td>0.0</td>\n",
       "      <td>0.0</td>\n",
       "      <td>1</td>\n",
       "      <td>DrDoS_DNS</td>\n",
       "    </tr>\n",
       "    <tr>\n",
       "      <th>1</th>\n",
       "      <td>2</td>\n",
       "      <td>0</td>\n",
       "      <td>2944.0</td>\n",
       "      <td>0.0</td>\n",
       "      <td>1472.0</td>\n",
       "      <td>1472.0</td>\n",
       "      <td>1472.0</td>\n",
       "      <td>0.0</td>\n",
       "      <td>0.0</td>\n",
       "      <td>0.0</td>\n",
       "      <td>...</td>\n",
       "      <td>0.0</td>\n",
       "      <td>0.0</td>\n",
       "      <td>0.0</td>\n",
       "      <td>0.0</td>\n",
       "      <td>0.0</td>\n",
       "      <td>0.0</td>\n",
       "      <td>0.0</td>\n",
       "      <td>0.0</td>\n",
       "      <td>1</td>\n",
       "      <td>DrDoS_DNS</td>\n",
       "    </tr>\n",
       "    <tr>\n",
       "      <th>2</th>\n",
       "      <td>2</td>\n",
       "      <td>0</td>\n",
       "      <td>2944.0</td>\n",
       "      <td>0.0</td>\n",
       "      <td>1472.0</td>\n",
       "      <td>1472.0</td>\n",
       "      <td>1472.0</td>\n",
       "      <td>0.0</td>\n",
       "      <td>0.0</td>\n",
       "      <td>0.0</td>\n",
       "      <td>...</td>\n",
       "      <td>0.0</td>\n",
       "      <td>0.0</td>\n",
       "      <td>0.0</td>\n",
       "      <td>0.0</td>\n",
       "      <td>0.0</td>\n",
       "      <td>0.0</td>\n",
       "      <td>0.0</td>\n",
       "      <td>0.0</td>\n",
       "      <td>1</td>\n",
       "      <td>DrDoS_DNS</td>\n",
       "    </tr>\n",
       "    <tr>\n",
       "      <th>3</th>\n",
       "      <td>2</td>\n",
       "      <td>0</td>\n",
       "      <td>2944.0</td>\n",
       "      <td>0.0</td>\n",
       "      <td>1472.0</td>\n",
       "      <td>1472.0</td>\n",
       "      <td>1472.0</td>\n",
       "      <td>0.0</td>\n",
       "      <td>0.0</td>\n",
       "      <td>0.0</td>\n",
       "      <td>...</td>\n",
       "      <td>0.0</td>\n",
       "      <td>0.0</td>\n",
       "      <td>0.0</td>\n",
       "      <td>0.0</td>\n",
       "      <td>0.0</td>\n",
       "      <td>0.0</td>\n",
       "      <td>0.0</td>\n",
       "      <td>0.0</td>\n",
       "      <td>1</td>\n",
       "      <td>DrDoS_DNS</td>\n",
       "    </tr>\n",
       "    <tr>\n",
       "      <th>4</th>\n",
       "      <td>2</td>\n",
       "      <td>0</td>\n",
       "      <td>2944.0</td>\n",
       "      <td>0.0</td>\n",
       "      <td>1472.0</td>\n",
       "      <td>1472.0</td>\n",
       "      <td>1472.0</td>\n",
       "      <td>0.0</td>\n",
       "      <td>0.0</td>\n",
       "      <td>0.0</td>\n",
       "      <td>...</td>\n",
       "      <td>0.0</td>\n",
       "      <td>0.0</td>\n",
       "      <td>0.0</td>\n",
       "      <td>0.0</td>\n",
       "      <td>0.0</td>\n",
       "      <td>0.0</td>\n",
       "      <td>0.0</td>\n",
       "      <td>0.0</td>\n",
       "      <td>1</td>\n",
       "      <td>DrDoS_DNS</td>\n",
       "    </tr>\n",
       "    <tr>\n",
       "      <th>...</th>\n",
       "      <td>...</td>\n",
       "      <td>...</td>\n",
       "      <td>...</td>\n",
       "      <td>...</td>\n",
       "      <td>...</td>\n",
       "      <td>...</td>\n",
       "      <td>...</td>\n",
       "      <td>...</td>\n",
       "      <td>...</td>\n",
       "      <td>...</td>\n",
       "      <td>...</td>\n",
       "      <td>...</td>\n",
       "      <td>...</td>\n",
       "      <td>...</td>\n",
       "      <td>...</td>\n",
       "      <td>...</td>\n",
       "      <td>...</td>\n",
       "      <td>...</td>\n",
       "      <td>...</td>\n",
       "      <td>...</td>\n",
       "      <td>...</td>\n",
       "    </tr>\n",
       "    <tr>\n",
       "      <th>71408</th>\n",
       "      <td>2</td>\n",
       "      <td>0</td>\n",
       "      <td>2656.0</td>\n",
       "      <td>0.0</td>\n",
       "      <td>1328.0</td>\n",
       "      <td>1328.0</td>\n",
       "      <td>1328.0</td>\n",
       "      <td>0.0</td>\n",
       "      <td>0.0</td>\n",
       "      <td>0.0</td>\n",
       "      <td>...</td>\n",
       "      <td>0.0</td>\n",
       "      <td>0.0</td>\n",
       "      <td>0.0</td>\n",
       "      <td>0.0</td>\n",
       "      <td>0.0</td>\n",
       "      <td>0.0</td>\n",
       "      <td>0.0</td>\n",
       "      <td>0.0</td>\n",
       "      <td>1</td>\n",
       "      <td>DrDoS_DNS</td>\n",
       "    </tr>\n",
       "    <tr>\n",
       "      <th>71409</th>\n",
       "      <td>2</td>\n",
       "      <td>0</td>\n",
       "      <td>2944.0</td>\n",
       "      <td>0.0</td>\n",
       "      <td>1472.0</td>\n",
       "      <td>1472.0</td>\n",
       "      <td>1472.0</td>\n",
       "      <td>0.0</td>\n",
       "      <td>0.0</td>\n",
       "      <td>0.0</td>\n",
       "      <td>...</td>\n",
       "      <td>0.0</td>\n",
       "      <td>0.0</td>\n",
       "      <td>0.0</td>\n",
       "      <td>0.0</td>\n",
       "      <td>0.0</td>\n",
       "      <td>0.0</td>\n",
       "      <td>0.0</td>\n",
       "      <td>0.0</td>\n",
       "      <td>1</td>\n",
       "      <td>DrDoS_DNS</td>\n",
       "    </tr>\n",
       "    <tr>\n",
       "      <th>71410</th>\n",
       "      <td>2</td>\n",
       "      <td>0</td>\n",
       "      <td>2896.0</td>\n",
       "      <td>0.0</td>\n",
       "      <td>1448.0</td>\n",
       "      <td>1448.0</td>\n",
       "      <td>1448.0</td>\n",
       "      <td>0.0</td>\n",
       "      <td>0.0</td>\n",
       "      <td>0.0</td>\n",
       "      <td>...</td>\n",
       "      <td>0.0</td>\n",
       "      <td>0.0</td>\n",
       "      <td>0.0</td>\n",
       "      <td>0.0</td>\n",
       "      <td>0.0</td>\n",
       "      <td>0.0</td>\n",
       "      <td>0.0</td>\n",
       "      <td>0.0</td>\n",
       "      <td>1</td>\n",
       "      <td>DrDoS_DNS</td>\n",
       "    </tr>\n",
       "    <tr>\n",
       "      <th>71411</th>\n",
       "      <td>2</td>\n",
       "      <td>0</td>\n",
       "      <td>2896.0</td>\n",
       "      <td>0.0</td>\n",
       "      <td>1448.0</td>\n",
       "      <td>1448.0</td>\n",
       "      <td>1448.0</td>\n",
       "      <td>0.0</td>\n",
       "      <td>0.0</td>\n",
       "      <td>0.0</td>\n",
       "      <td>...</td>\n",
       "      <td>0.0</td>\n",
       "      <td>0.0</td>\n",
       "      <td>0.0</td>\n",
       "      <td>0.0</td>\n",
       "      <td>0.0</td>\n",
       "      <td>0.0</td>\n",
       "      <td>0.0</td>\n",
       "      <td>0.0</td>\n",
       "      <td>1</td>\n",
       "      <td>DrDoS_DNS</td>\n",
       "    </tr>\n",
       "    <tr>\n",
       "      <th>71412</th>\n",
       "      <td>2</td>\n",
       "      <td>0</td>\n",
       "      <td>2928.0</td>\n",
       "      <td>0.0</td>\n",
       "      <td>1464.0</td>\n",
       "      <td>1464.0</td>\n",
       "      <td>1464.0</td>\n",
       "      <td>0.0</td>\n",
       "      <td>0.0</td>\n",
       "      <td>0.0</td>\n",
       "      <td>...</td>\n",
       "      <td>0.0</td>\n",
       "      <td>0.0</td>\n",
       "      <td>0.0</td>\n",
       "      <td>0.0</td>\n",
       "      <td>0.0</td>\n",
       "      <td>0.0</td>\n",
       "      <td>0.0</td>\n",
       "      <td>0.0</td>\n",
       "      <td>1</td>\n",
       "      <td>DrDoS_DNS</td>\n",
       "    </tr>\n",
       "  </tbody>\n",
       "</table>\n",
       "<p>71413 rows × 78 columns</p>\n",
       "</div>"
      ],
      "text/plain": [
       "       Flow Duration  Total Fwd Packets  Total Backward Packets  \\\n",
       "0                  2                  0                  2944.0   \n",
       "1                  2                  0                  2944.0   \n",
       "2                  2                  0                  2944.0   \n",
       "3                  2                  0                  2944.0   \n",
       "4                  2                  0                  2944.0   \n",
       "...              ...                ...                     ...   \n",
       "71408              2                  0                  2656.0   \n",
       "71409              2                  0                  2944.0   \n",
       "71410              2                  0                  2896.0   \n",
       "71411              2                  0                  2896.0   \n",
       "71412              2                  0                  2928.0   \n",
       "\n",
       "       Total Length of Fwd Packets  Total Length of Bwd Packets  \\\n",
       "0                              0.0                       1472.0   \n",
       "1                              0.0                       1472.0   \n",
       "2                              0.0                       1472.0   \n",
       "3                              0.0                       1472.0   \n",
       "4                              0.0                       1472.0   \n",
       "...                            ...                          ...   \n",
       "71408                          0.0                       1328.0   \n",
       "71409                          0.0                       1472.0   \n",
       "71410                          0.0                       1448.0   \n",
       "71411                          0.0                       1448.0   \n",
       "71412                          0.0                       1464.0   \n",
       "\n",
       "       Fwd Packet Length Max  Fwd Packet Length Min  \\\n",
       "0                     1472.0                 1472.0   \n",
       "1                     1472.0                 1472.0   \n",
       "2                     1472.0                 1472.0   \n",
       "3                     1472.0                 1472.0   \n",
       "4                     1472.0                 1472.0   \n",
       "...                      ...                    ...   \n",
       "71408                 1328.0                 1328.0   \n",
       "71409                 1472.0                 1472.0   \n",
       "71410                 1448.0                 1448.0   \n",
       "71411                 1448.0                 1448.0   \n",
       "71412                 1464.0                 1464.0   \n",
       "\n",
       "       Fwd Packet Length MeanFwd Packet Length Std  Bwd Packet Length Max  \\\n",
       "0                                              0.0                    0.0   \n",
       "1                                              0.0                    0.0   \n",
       "2                                              0.0                    0.0   \n",
       "3                                              0.0                    0.0   \n",
       "4                                              0.0                    0.0   \n",
       "...                                            ...                    ...   \n",
       "71408                                          0.0                    0.0   \n",
       "71409                                          0.0                    0.0   \n",
       "71410                                          0.0                    0.0   \n",
       "71411                                          0.0                    0.0   \n",
       "71412                                          0.0                    0.0   \n",
       "\n",
       "       Bwd Packet Length Min  ...  Active Mean  Active Std  Active Max  \\\n",
       "0                        0.0  ...          0.0         0.0         0.0   \n",
       "1                        0.0  ...          0.0         0.0         0.0   \n",
       "2                        0.0  ...          0.0         0.0         0.0   \n",
       "3                        0.0  ...          0.0         0.0         0.0   \n",
       "4                        0.0  ...          0.0         0.0         0.0   \n",
       "...                      ...  ...          ...         ...         ...   \n",
       "71408                    0.0  ...          0.0         0.0         0.0   \n",
       "71409                    0.0  ...          0.0         0.0         0.0   \n",
       "71410                    0.0  ...          0.0         0.0         0.0   \n",
       "71411                    0.0  ...          0.0         0.0         0.0   \n",
       "71412                    0.0  ...          0.0         0.0         0.0   \n",
       "\n",
       "       Active Min  Idle Mean  Idle Std  Idle Max  Idle Min  Inbound      Label  \n",
       "0             0.0        0.0       0.0       0.0       0.0        1  DrDoS_DNS  \n",
       "1             0.0        0.0       0.0       0.0       0.0        1  DrDoS_DNS  \n",
       "2             0.0        0.0       0.0       0.0       0.0        1  DrDoS_DNS  \n",
       "3             0.0        0.0       0.0       0.0       0.0        1  DrDoS_DNS  \n",
       "4             0.0        0.0       0.0       0.0       0.0        1  DrDoS_DNS  \n",
       "...           ...        ...       ...       ...       ...      ...        ...  \n",
       "71408         0.0        0.0       0.0       0.0       0.0        1  DrDoS_DNS  \n",
       "71409         0.0        0.0       0.0       0.0       0.0        1  DrDoS_DNS  \n",
       "71410         0.0        0.0       0.0       0.0       0.0        1  DrDoS_DNS  \n",
       "71411         0.0        0.0       0.0       0.0       0.0        1  DrDoS_DNS  \n",
       "71412         0.0        0.0       0.0       0.0       0.0        1  DrDoS_DNS  \n",
       "\n",
       "[71413 rows x 78 columns]"
      ]
     },
     "execution_count": 11,
     "metadata": {},
     "output_type": "execute_result"
    }
   ],
   "source": [
    "#show validation data\n",
    "data_validate"
   ]
  },
  {
   "cell_type": "code",
   "execution_count": 52,
   "metadata": {},
   "outputs": [
    {
     "name": "stdout",
     "output_type": "stream",
     "text": [
      "<class 'pandas.core.frame.DataFrame'>\n",
      "RangeIndex: 71413 entries, 0 to 71412\n",
      "Data columns (total 87 columns):\n",
      " #   Column                       Non-Null Count  Dtype  \n",
      "---  ------                       --------------  -----  \n",
      " 0   Flow ID                      71413 non-null  object \n",
      " 1   Source IP                    71413 non-null  object \n",
      " 2   Source Port                  71413 non-null  int64  \n",
      " 3   Destination IP               71413 non-null  object \n",
      " 4   Destination Port             71413 non-null  int64  \n",
      " 5   Protocol                     71413 non-null  int64  \n",
      " 6   Timestamp                    71413 non-null  object \n",
      " 7   Flow Duration                71413 non-null  int64  \n",
      " 8   Total Fwd Packets            71413 non-null  int64  \n",
      " 9   Total Backward Packets       71413 non-null  int64  \n",
      " 10  Total Length of Fwd Packets  71413 non-null  float64\n",
      " 11  Total Length of Bwd Packets  71413 non-null  float64\n",
      " 12  Fwd Packet Length Max        71413 non-null  float64\n",
      " 13  Fwd Packet Length Min        71413 non-null  float64\n",
      " 14  Fwd Packet Length Mean       71413 non-null  float64\n",
      " 15  Fwd Packet Length Std        71413 non-null  float64\n",
      " 16  Bwd Packet Length Max        71413 non-null  float64\n",
      " 17  Bwd Packet Length Min        71413 non-null  float64\n",
      " 18  Bwd Packet Length Mean       71413 non-null  float64\n",
      " 19  Bwd Packet Length Std        71413 non-null  float64\n",
      " 20  Flow Bytes/s                 71413 non-null  float64\n",
      " 21  Flow Packets/s               71413 non-null  float64\n",
      " 22  Flow IAT Mean                71413 non-null  float64\n",
      " 23  Flow IAT Std                 71413 non-null  float64\n",
      " 24  Flow IAT Max                 71413 non-null  float64\n",
      " 25  Flow IAT Min                 71413 non-null  float64\n",
      " 26  Fwd IAT Total                71413 non-null  float64\n",
      " 27  Fwd IAT Mean                 71413 non-null  float64\n",
      " 28  Fwd IAT Std                  71413 non-null  float64\n",
      " 29  Fwd IAT Max                  71413 non-null  float64\n",
      " 30  Fwd IAT Min                  71413 non-null  float64\n",
      " 31  Bwd IAT Total                71413 non-null  float64\n",
      " 32  Bwd IAT Mean                 71413 non-null  float64\n",
      " 33  Bwd IAT Std                  71413 non-null  float64\n",
      " 34  Bwd IAT Max                  71413 non-null  float64\n",
      " 35  Bwd IAT Min                  71413 non-null  float64\n",
      " 36  Fwd PSH Flags                71413 non-null  int64  \n",
      " 37  Bwd PSH Flags                71413 non-null  int64  \n",
      " 38  Fwd URG Flags                71413 non-null  int64  \n",
      " 39  Bwd URG Flags                71413 non-null  int64  \n",
      " 40  Fwd Header Length            71413 non-null  int64  \n",
      " 41  Bwd Header Length            71413 non-null  int64  \n",
      " 42  Fwd Packets/s                71413 non-null  float64\n",
      " 43  Bwd Packets/s                71413 non-null  float64\n",
      " 44  Min Packet Length            71413 non-null  float64\n",
      " 45  Max Packet Length            71413 non-null  float64\n",
      " 46  Packet Length Mean           71413 non-null  float64\n",
      " 47  Packet Length Std            71413 non-null  float64\n",
      " 48  Packet Length Variance       71413 non-null  float64\n",
      " 49  FIN Flag Count               71413 non-null  int64  \n",
      " 50  SYN Flag Count               71413 non-null  int64  \n",
      " 51  RST Flag Count               71413 non-null  int64  \n",
      " 52  PSH Flag Count               71413 non-null  int64  \n",
      " 53  ACK Flag Count               71413 non-null  int64  \n",
      " 54  URG Flag Count               71413 non-null  int64  \n",
      " 55  CWE Flag Count               71413 non-null  int64  \n",
      " 56  ECE Flag Count               71413 non-null  int64  \n",
      " 57  Down/Up Ratio                71413 non-null  float64\n",
      " 58  Average Packet Size          71413 non-null  float64\n",
      " 59  Avg Fwd Segment Size         71413 non-null  float64\n",
      " 60  Avg Bwd Segment Size         71413 non-null  float64\n",
      " 61  Fwd Header Length.1          71413 non-null  int64  \n",
      " 62  Fwd Avg Bytes/Bulk           71413 non-null  int64  \n",
      " 63  Fwd Avg Packets/Bulk         71413 non-null  int64  \n",
      " 64  Fwd Avg Bulk Rate            71413 non-null  int64  \n",
      " 65  Bwd Avg Bytes/Bulk           71413 non-null  int64  \n",
      " 66  Bwd Avg Packets/Bulk         71413 non-null  int64  \n",
      " 67  Bwd Avg Bulk Rate            71413 non-null  int64  \n",
      " 68  Subflow Fwd Packets          71413 non-null  int64  \n",
      " 69  Subflow Fwd Bytes            71413 non-null  int64  \n",
      " 70  Subflow Bwd Packets          71413 non-null  int64  \n",
      " 71  Subflow Bwd Bytes            71413 non-null  int64  \n",
      " 72  Init_Win_bytes_forward       71413 non-null  int64  \n",
      " 73  Init_Win_bytes_backward      71413 non-null  int64  \n",
      " 74  act_data_pkt_fwd             71413 non-null  int64  \n",
      " 75  min_seg_size_forward         71413 non-null  int64  \n",
      " 76  Active Mean                  71413 non-null  float64\n",
      " 77  Active Std                   71413 non-null  float64\n",
      " 78  Active Max                   71413 non-null  float64\n",
      " 79  Active Min                   71413 non-null  float64\n",
      " 80  Idle Mean                    71413 non-null  float64\n",
      " 81  Idle Std                     71413 non-null  float64\n",
      " 82  Idle Max                     71413 non-null  float64\n",
      " 83  Idle Min                     71413 non-null  float64\n",
      " 84  SimillarHTTP                 71413 non-null  object \n",
      " 85  Inbound                      71413 non-null  int64  \n",
      " 86  Label                        71413 non-null  object \n",
      "dtypes: float64(45), int64(36), object(6)\n",
      "memory usage: 47.4+ MB\n"
     ]
    }
   ],
   "source": [
    "#getting some info about validation data\n",
    "data_validate.info()"
   ]
  },
  {
   "cell_type": "code",
   "execution_count": 53,
   "metadata": {},
   "outputs": [],
   "source": [
    "#drop some coulmns in training and validation data\n",
    "data_train=data_train.drop(['Flow ID','Source IP','Source Port','Destination IP','Destination Port','Protocol','Timestamp','SimillarHTTP'], axis=1)\n",
    "data_validate=data_validate.drop(['Flow ID','Source IP','Source Port','Destination IP','Destination Port','Protocol','Timestamp','SimillarHTTP'], axis=1)"
   ]
  },
  {
   "cell_type": "code",
   "execution_count": 54,
   "metadata": {},
   "outputs": [],
   "source": [
    "#remove inf and -inf in training data\n",
    "data_train.replace([np.inf, -np.inf], np.nan, inplace=True)"
   ]
  },
  {
   "cell_type": "code",
   "execution_count": 55,
   "metadata": {},
   "outputs": [
    {
     "data": {
      "text/plain": [
       "243210"
      ]
     },
     "execution_count": 55,
     "metadata": {},
     "output_type": "execute_result"
    }
   ],
   "source": [
    "#obtain sum of number null in training data\n",
    "data_train.isnull().sum().sum()"
   ]
  },
  {
   "cell_type": "code",
   "execution_count": 56,
   "metadata": {},
   "outputs": [],
   "source": [
    "#replace null in training data\n",
    "data_train['Flow Bytes/s'].fillna(value=data_train['Flow Bytes/s'].mean(), inplace=True)\n",
    "data_train['Flow Packets/s'].fillna(value=data_train['Flow Packets/s'].mean(), inplace=True)"
   ]
  },
  {
   "cell_type": "code",
   "execution_count": 57,
   "metadata": {},
   "outputs": [
    {
     "data": {
      "text/plain": [
       "DrDoS_DNS    4000000\n",
       "BENIGN          2000\n",
       "Name: Label, dtype: int64"
      ]
     },
     "execution_count": 57,
     "metadata": {},
     "output_type": "execute_result"
    }
   ],
   "source": [
    "#count label of training data\n",
    "data_train['Label'].value_counts()"
   ]
  },
  {
   "cell_type": "code",
   "execution_count": 58,
   "metadata": {},
   "outputs": [],
   "source": [
    "#remove inf and -inf in validation data\n",
    "data_validate.replace([np.inf, -np.inf], np.nan, inplace=True)"
   ]
  },
  {
   "cell_type": "code",
   "execution_count": 59,
   "metadata": {},
   "outputs": [
    {
     "data": {
      "text/plain": [
       "4964"
      ]
     },
     "execution_count": 59,
     "metadata": {},
     "output_type": "execute_result"
    }
   ],
   "source": [
    "#obtain sum of number null in validation data\n",
    "data_validate.isnull().sum().sum()"
   ]
  },
  {
   "cell_type": "code",
   "execution_count": 60,
   "metadata": {},
   "outputs": [],
   "source": [
    "##eplace null in validation data\n",
    "data_validate['Flow Bytes/s'].fillna(value=data_validate['Flow Bytes/s'].mean(), inplace=True)\n",
    "data_validate['Flow Packets/s'].fillna(value=data_validate['Flow Packets/s'].mean(), inplace=True)"
   ]
  },
  {
   "cell_type": "code",
   "execution_count": 61,
   "metadata": {},
   "outputs": [
    {
     "data": {
      "text/plain": [
       "DrDoS_DNS    71011\n",
       "BENIGN         402\n",
       "Name: Label, dtype: int64"
      ]
     },
     "execution_count": 61,
     "metadata": {},
     "output_type": "execute_result"
    }
   ],
   "source": [
    "#count lavbel of validation data\n",
    "data_validate['Label'].value_counts()"
   ]
  },
  {
   "cell_type": "code",
   "execution_count": 62,
   "metadata": {},
   "outputs": [],
   "source": [
    "#convert label from nomial to numerical in training and validation data\n",
    "data_train=data_train.replace({\"Label\":{\"DrDoS_DNS\":1,\"BENIGN\":0}})\n",
    "data_validate=data_validate.replace({\"Label\":{\"DrDoS_DNS\":1,\"BENIGN\":0}})"
   ]
  },
  {
   "cell_type": "code",
   "execution_count": 63,
   "metadata": {},
   "outputs": [],
   "source": [
    "#split training and validation data to features (x) and label (y)\n",
    "x_train=data_train.iloc[:,0:-1]\n",
    "y_train=data_train.iloc[:,-1]\n",
    "x_validate=data_validate.iloc[:,0:-1]\n",
    "y_validate=data_validate.iloc[:,-1]"
   ]
  },
  {
   "cell_type": "code",
   "execution_count": 64,
   "metadata": {},
   "outputs": [
    {
     "data": {
      "text/plain": [
       "array([8.05982493e-05, 0.00000000e+00, 0.00000000e+00, 0.00000000e+00,\n",
       "       0.00000000e+00, 0.00000000e+00, 0.00000000e+00, 0.00000000e+00,\n",
       "       0.00000000e+00, 0.00000000e+00, 0.00000000e+00, 0.00000000e+00,\n",
       "       0.00000000e+00, 7.54708836e-01, 0.00000000e+00, 0.00000000e+00,\n",
       "       3.13987170e-04, 0.00000000e+00, 0.00000000e+00, 0.00000000e+00,\n",
       "       1.09564079e-03, 1.18159223e-04, 2.60534080e-04, 2.60569442e-04,\n",
       "       0.00000000e+00, 0.00000000e+00, 7.97363543e-04, 0.00000000e+00,\n",
       "       0.00000000e+00, 0.00000000e+00, 0.00000000e+00, 0.00000000e+00,\n",
       "       0.00000000e+00, 1.30775193e-04, 3.23453785e-03, 1.21621225e-03,\n",
       "       0.00000000e+00, 0.00000000e+00, 0.00000000e+00, 6.85527879e-04,\n",
       "       0.00000000e+00, 0.00000000e+00, 0.00000000e+00, 6.99024848e-03,\n",
       "       0.00000000e+00, 0.00000000e+00, 0.00000000e+00, 4.54112134e-02,\n",
       "       0.00000000e+00, 0.00000000e+00, 1.52015016e-04, 1.30746839e-03,\n",
       "       4.92291045e-04, 0.00000000e+00, 1.00443778e-03, 0.00000000e+00,\n",
       "       0.00000000e+00, 0.00000000e+00, 0.00000000e+00, 0.00000000e+00,\n",
       "       0.00000000e+00, 3.03227652e-04, 3.60536883e-04, 0.00000000e+00,\n",
       "       0.00000000e+00, 9.53860287e-02, 2.90725270e-04, 1.04835344e-04,\n",
       "       4.09358994e-02, 0.00000000e+00, 0.00000000e+00, 0.00000000e+00,\n",
       "       2.63842909e-03, 0.00000000e+00, 0.00000000e+00, 0.00000000e+00,\n",
       "       0.00000000e+00, 4.17199019e-02])"
      ]
     },
     "execution_count": 64,
     "metadata": {},
     "output_type": "execute_result"
    }
   ],
   "source": [
    "#apply decision tree to obtain features importance\n",
    "clf_d = DecisionTreeClassifier(criterion=\"entropy\",random_state=0)\n",
    "clf_d.fit(x_train,y_train)\n",
    "important_feature = clf_d.feature_importances_\n",
    "important_feature"
   ]
  },
  {
   "cell_type": "code",
   "execution_count": 87,
   "metadata": {},
   "outputs": [
    {
     "name": "stdout",
     "output_type": "stream",
     "text": [
      "Feature: 0, Score: 0.00008\n",
      "Feature: 1, Score: 0.00000\n",
      "Feature: 2, Score: 0.00000\n",
      "Feature: 3, Score: 0.00000\n",
      "Feature: 4, Score: 0.00000\n",
      "Feature: 5, Score: 0.00000\n",
      "Feature: 6, Score: 0.00000\n",
      "Feature: 7, Score: 0.00000\n",
      "Feature: 8, Score: 0.00000\n",
      "Feature: 9, Score: 0.00000\n",
      "Feature: 10, Score: 0.00000\n",
      "Feature: 11, Score: 0.00000\n",
      "Feature: 12, Score: 0.00000\n",
      "Feature: 13, Score: 0.75471\n",
      "Feature: 14, Score: 0.00000\n",
      "Feature: 15, Score: 0.00000\n",
      "Feature: 16, Score: 0.00031\n",
      "Feature: 17, Score: 0.00000\n",
      "Feature: 18, Score: 0.00000\n",
      "Feature: 19, Score: 0.00000\n",
      "Feature: 20, Score: 0.00110\n",
      "Feature: 21, Score: 0.00012\n",
      "Feature: 22, Score: 0.00026\n",
      "Feature: 23, Score: 0.00026\n",
      "Feature: 24, Score: 0.00000\n",
      "Feature: 25, Score: 0.00000\n",
      "Feature: 26, Score: 0.00080\n",
      "Feature: 27, Score: 0.00000\n",
      "Feature: 28, Score: 0.00000\n",
      "Feature: 29, Score: 0.00000\n",
      "Feature: 30, Score: 0.00000\n",
      "Feature: 31, Score: 0.00000\n",
      "Feature: 32, Score: 0.00000\n",
      "Feature: 33, Score: 0.00013\n",
      "Feature: 34, Score: 0.00323\n",
      "Feature: 35, Score: 0.00122\n",
      "Feature: 36, Score: 0.00000\n",
      "Feature: 37, Score: 0.00000\n",
      "Feature: 38, Score: 0.00000\n",
      "Feature: 39, Score: 0.00069\n",
      "Feature: 40, Score: 0.00000\n",
      "Feature: 41, Score: 0.00000\n",
      "Feature: 42, Score: 0.00000\n",
      "Feature: 43, Score: 0.00699\n",
      "Feature: 44, Score: 0.00000\n",
      "Feature: 45, Score: 0.00000\n",
      "Feature: 46, Score: 0.00000\n",
      "Feature: 47, Score: 0.04541\n",
      "Feature: 48, Score: 0.00000\n",
      "Feature: 49, Score: 0.00000\n",
      "Feature: 50, Score: 0.00015\n",
      "Feature: 51, Score: 0.00131\n",
      "Feature: 52, Score: 0.00049\n",
      "Feature: 53, Score: 0.00000\n",
      "Feature: 54, Score: 0.00100\n",
      "Feature: 55, Score: 0.00000\n",
      "Feature: 56, Score: 0.00000\n",
      "Feature: 57, Score: 0.00000\n",
      "Feature: 58, Score: 0.00000\n",
      "Feature: 59, Score: 0.00000\n",
      "Feature: 60, Score: 0.00000\n",
      "Feature: 61, Score: 0.00030\n",
      "Feature: 62, Score: 0.00036\n",
      "Feature: 63, Score: 0.00000\n",
      "Feature: 64, Score: 0.00000\n",
      "Feature: 65, Score: 0.09539\n",
      "Feature: 66, Score: 0.00029\n",
      "Feature: 67, Score: 0.00010\n",
      "Feature: 68, Score: 0.04094\n",
      "Feature: 69, Score: 0.00000\n",
      "Feature: 70, Score: 0.00000\n",
      "Feature: 71, Score: 0.00000\n",
      "Feature: 72, Score: 0.00264\n",
      "Feature: 73, Score: 0.00000\n",
      "Feature: 74, Score: 0.00000\n",
      "Feature: 75, Score: 0.00000\n",
      "Feature: 76, Score: 0.00000\n",
      "Feature: 77, Score: 0.04172\n"
     ]
    }
   ],
   "source": [
    "#summarize features importance\n",
    "for i,v in enumerate(important_feature):\n",
    "    print('Feature: %0d, Score: %.5f' % (i,v))"
   ]
  },
  {
   "cell_type": "code",
   "execution_count": 65,
   "metadata": {},
   "outputs": [
    {
     "data": {
      "image/png": "[encoded data removed]",
      "text/plain": [
       "<Figure size 432x288 with 1 Axes>"
      ]
     },
     "metadata": {
      "needs_background": "light"
     },
     "output_type": "display_data"
    }
   ],
   "source": [
    "#plot features importance\n",
    "plt.bar([x for x in range(len(important_feature))], important_feature)\n",
    "plt.show()"
   ]
  },
  {
   "cell_type": "code",
   "execution_count": 67,
   "metadata": {},
   "outputs": [
    {
     "name": "stdout",
     "output_type": "stream",
     "text": [
      "[7.54708836e-01 9.53860287e-02 4.54112134e-02 4.17199019e-02\n",
      " 4.09358994e-02 6.99024848e-03 3.23453785e-03 2.63842909e-03\n",
      " 1.30746839e-03 1.21621225e-03 1.09564079e-03 1.00443778e-03\n",
      " 7.97363543e-04 6.85527879e-04 4.92291045e-04 3.60536883e-04\n",
      " 3.13987170e-04 3.03227652e-04 2.90725270e-04 2.60569442e-04\n",
      " 2.60534080e-04 1.52015016e-04 1.30775193e-04 1.18159223e-04\n",
      " 1.04835344e-04 8.05982493e-05 0.00000000e+00 0.00000000e+00\n",
      " 0.00000000e+00 0.00000000e+00 0.00000000e+00 0.00000000e+00\n",
      " 0.00000000e+00 0.00000000e+00 0.00000000e+00 0.00000000e+00\n",
      " 0.00000000e+00 0.00000000e+00 0.00000000e+00 0.00000000e+00\n",
      " 0.00000000e+00 0.00000000e+00 0.00000000e+00 0.00000000e+00\n",
      " 0.00000000e+00 0.00000000e+00 0.00000000e+00 0.00000000e+00\n",
      " 0.00000000e+00 0.00000000e+00 0.00000000e+00 0.00000000e+00\n",
      " 0.00000000e+00 0.00000000e+00 0.00000000e+00 0.00000000e+00\n",
      " 0.00000000e+00 0.00000000e+00 0.00000000e+00 0.00000000e+00\n",
      " 0.00000000e+00 0.00000000e+00 0.00000000e+00 0.00000000e+00\n",
      " 0.00000000e+00 0.00000000e+00 0.00000000e+00 0.00000000e+00\n",
      " 0.00000000e+00 0.00000000e+00 0.00000000e+00 0.00000000e+00\n",
      " 0.00000000e+00 0.00000000e+00 0.00000000e+00 0.00000000e+00\n",
      " 0.00000000e+00 0.00000000e+00]\n"
     ]
    }
   ],
   "source": [
    "#sort features importance\n",
    "sorted_importance_feature=np.sort(important_feature)[::-1]\n",
    "print(sorted_importance_feature)"
   ]
  },
  {
   "cell_type": "code",
   "execution_count": 68,
   "metadata": {},
   "outputs": [
    {
     "data": {
      "text/plain": [
       "array([13, 65, 47, 77, 68, 43, 34, 72, 51, 35, 20, 54, 26, 39, 52, 62, 16,\n",
       "       61, 66, 23, 22, 50, 33, 21, 67,  0, 53, 55, 69, 70, 71, 73, 19, 18,\n",
       "       17, 74, 15, 14, 75, 12, 11, 10,  9,  8,  7,  6,  5,  4,  3,  2,  1,\n",
       "       24, 25, 64, 58, 49, 48, 56, 46, 45, 44, 57, 42, 41, 40, 76, 27, 37,\n",
       "       36, 59, 60, 63, 32, 31, 30, 29, 28, 38], dtype=int64)"
      ]
     },
     "execution_count": 68,
     "metadata": {},
     "output_type": "execute_result"
    }
   ],
   "source": [
    "#sort features importance to obtain index of fatures\n",
    "sorted_importance_feature_index=np.argsort(important_feature)[::-1]\n",
    "sorted_importance_feature_index"
   ]
  },
  {
   "cell_type": "code",
   "execution_count": 69,
   "metadata": {},
   "outputs": [],
   "source": [
    "#importance features index\n",
    "impotrant_index = sorted_importance_feature_index[:25]"
   ]
  },
  {
   "cell_type": "code",
   "execution_count": 70,
   "metadata": {},
   "outputs": [
    {
     "name": "stdout",
     "output_type": "stream",
     "text": [
      "(4002000, 25)\n",
      "(71413, 25)\n"
     ]
    }
   ],
   "source": [
    "#delet not importance feature in training and validation data\n",
    "#show the new shape of training and validation data\n",
    "x__train=x_train.iloc[:,impotrant_index]\n",
    "x__validate=x_validate.iloc[:,impotrant_index]\n",
    "print(x__train.shape)\n",
    "print(x__validate.shape)"
   ]
  },
  {
   "cell_type": "code",
   "execution_count": 71,
   "metadata": {},
   "outputs": [
    {
     "name": "stdout",
     "output_type": "stream",
     "text": [
      "f1 score in training 0.9999981250021094\n",
      "accuracy in training 0.9999962518740629\n",
      "f1 score in validation 0.9999295933310803\n",
      "accuracy in validation 0.9998599694733452\n"
     ]
    },
    {
     "name": "stderr",
     "output_type": "stream",
     "text": [
      "C:\\Users\\admin\\AppData\\Local\\Programs\\Python\\Python310\\lib\\site-packages\\sklearn\\utils\\deprecation.py:87: FutureWarning: Function plot_confusion_matrix is deprecated; Function `plot_confusion_matrix` is deprecated in 1.0 and will be removed in 1.2. Use one of the class methods: ConfusionMatrixDisplay.from_predictions or ConfusionMatrixDisplay.from_estimator.\n",
      "  warnings.warn(msg, category=FutureWarning)\n"
     ]
    },
    {
     "data": {
      "text/plain": [
       "<sklearn.metrics._plot.confusion_matrix.ConfusionMatrixDisplay at 0x18529e26680>"
      ]
     },
     "execution_count": 71,
     "metadata": {},
     "output_type": "execute_result"
    },
    {
     "data": {
      "image/png": "[encoded data removed]",
      "text/plain": [
       "<Figure size 432x288 with 2 Axes>"
      ]
     },
     "metadata": {
      "needs_background": "light"
     },
     "output_type": "display_data"
    }
   ],
   "source": [
    "#apply CatBoostClassifier and obtian accuracy and f1-score\n",
    "#draw confusion matrix of our model\n",
    "clf_c_im = CatBoostClassifier(iterations=400,verbose=0,learning_rate=0.01,random_state=0)\n",
    "clf_c_im.fit(x__train, y_train)\n",
    "y_pred_c_im_train=clf_c_im.predict(x__train)\n",
    "print(\"f1 score in training\",f1_score(y_train,y_pred_c_im_train))\n",
    "print(\"accuracy in training\",accuracy_score(y_train,y_pred_c_im_train))\n",
    "y_pred_c_im=clf_c_im.predict(x__validate)\n",
    "print(\"f1 score in validation\",f1_score(y_validate, y_pred_c_im))\n",
    "print(\"accuracy in validation\",accuracy_score(y_validate, y_pred_c_im))\n",
    "plot_confusion_matrix(clf_c_im,x__validate,y_validate)  "
   ]
  },
  {
   "cell_type": "code",
   "execution_count": 119,
   "metadata": {},
   "outputs": [
    {
     "data": {
      "image/png": "[encoded data removed]",
      "text/plain": [
       "<Figure size 576x576 with 1 Axes>"
      ]
     },
     "metadata": {
      "needs_background": "light"
     },
     "output_type": "display_data"
    }
   ],
   "source": [
    "# false positive rate, true positive rate, thresholds\n",
    "fpr1, tpr1, thresholds1 = metrics.roc_curve(y_validate, y_pred_c_im)\n",
    "fpr2, tpr2, thresholds2 = metrics.roc_curve(y_train, y_pred_c_im_train)\n",
    " # auc score\n",
    "auc1 = metrics.auc(fpr1, tpr1)\n",
    "auc2 = metrics.auc(fpr2, tpr2)\n",
    "plt.figure(figsize=(8,8))\n",
    "# plot auc \n",
    "plt.plot(fpr1, tpr1, color='blue', label='Test ROC curve area = %0.2f'%auc1)\n",
    "plt.plot(fpr2, tpr2, color='green', label='Train ROC curve area = %0.2f'%auc2)\n",
    "plt.plot([0,1],[0,1], 'r--')\n",
    "plt.xlim([-0.1, 1.1])\n",
    "plt.ylim([-0.1, 1.1])\n",
    "plt.xlabel('False Positive Rate', size=14)\n",
    "plt.ylabel('True Positive Rate', size=14)\n",
    "plt.legend(loc='lower right')\n",
    "plt.show()"
   ]
  },
  {
   "cell_type": "code",
   "execution_count": 72,
   "metadata": {},
   "outputs": [],
   "source": [
    "#save model\n",
    "pickle.dump(clf_c_im, open('D:/project_cs/catboost_im.sav','wb'))"
   ]
  },
  {
   "cell_type": "code",
   "execution_count": 117,
   "metadata": {},
   "outputs": [
    {
     "data": {
      "text/plain": [
       "0.0003946999931940809"
      ]
     },
     "execution_count": 117,
     "metadata": {},
     "output_type": "execute_result"
    }
   ],
   "source": [
    "import timeit\n",
    "sst = timeit.timeit()\n",
    "out=clf_c_im.predict(x__validate.iloc[:1])\n",
    "end = timeit.timeit()\n",
    "end-sst"
   ]
  },
  {
   "cell_type": "code",
   "execution_count": 124,
   "metadata": {},
   "outputs": [
    {
     "data": {
      "text/plain": [
       "datetime.timedelta(microseconds=2028)"
      ]
     },
     "execution_count": 124,
     "metadata": {},
     "output_type": "execute_result"
    }
   ],
   "source": [
    "import datetime\n",
    "start = datetime.datetime.now()\n",
    "out=clf_c_im.predict(x__validate.iloc[:1])\n",
    "end = datetime.datetime.now()\n",
    "(end-start)"
   ]
  },
  {
   "cell_type": "code",
   "execution_count": 106,
   "metadata": {},
   "outputs": [
    {
     "data": {
      "text/plain": [
       "0"
      ]
     },
     "execution_count": 106,
     "metadata": {},
     "output_type": "execute_result"
    }
   ],
   "source": [
    "(end-start).seconds"
   ]
  },
  {
   "cell_type": "code",
   "execution_count": 120,
   "metadata": {},
   "outputs": [],
   "source": [
    "#importance 10 features index \n",
    "impotrant_index_10 = sorted_importance_feature_index[:10]"
   ]
  },
  {
   "cell_type": "code",
   "execution_count": 121,
   "metadata": {},
   "outputs": [
    {
     "name": "stdout",
     "output_type": "stream",
     "text": [
      "(4002000, 10)\n",
      "(71413, 10)\n"
     ]
    }
   ],
   "source": [
    "#delet not importance feature in training and validation data\n",
    "#show the new shape of training and validation data\n",
    "x__train_10=x_train.iloc[:,impotrant_index_10]\n",
    "x__validate_10=x_validate.iloc[:,impotrant_index_10]\n",
    "print(x__train_10.shape)\n",
    "print(x__validate_10.shape)"
   ]
  },
  {
   "cell_type": "code",
   "execution_count": 123,
   "metadata": {},
   "outputs": [
    {
     "name": "stdout",
     "output_type": "stream",
     "text": [
      "f1 score in training 0.999997\n",
      "accuracy in training 0.9999962518740629\n",
      "f1 score in validation 0.9999366317671992\n",
      "accuracy in validation 0.9998599694733452\n"
     ]
    },
    {
     "name": "stderr",
     "output_type": "stream",
     "text": [
      "C:\\Users\\admin\\AppData\\Local\\Programs\\Python\\Python310\\lib\\site-packages\\sklearn\\utils\\deprecation.py:87: FutureWarning: Function plot_confusion_matrix is deprecated; Function `plot_confusion_matrix` is deprecated in 1.0 and will be removed in 1.2. Use one of the class methods: ConfusionMatrixDisplay.from_predictions or ConfusionMatrixDisplay.from_estimator.\n",
      "  warnings.warn(msg, category=FutureWarning)\n"
     ]
    },
    {
     "data": {
      "text/plain": [
       "<sklearn.metrics._plot.confusion_matrix.ConfusionMatrixDisplay at 0x1821cf2e5c0>"
      ]
     },
     "execution_count": 123,
     "metadata": {},
     "output_type": "execute_result"
    },
    {
     "data": {
      "image/png": "[encoded data removed]",
      "text/plain": [
       "<Figure size 432x288 with 2 Axes>"
      ]
     },
     "metadata": {
      "needs_background": "light"
     },
     "output_type": "display_data"
    }
   ],
   "source": [
    "#apply CatBoostClassifier and obtian accuracy and f1-score\n",
    "#draw confusion matrix of our model\n",
    "clf_c_im_10 = CatBoostClassifier(iterations=400,verbose=0,learning_rate=0.01,random_state=0)\n",
    "clf_c_im_10.fit(x__train_10, y_train)\n",
    "y_pred_c_im_train_10=clf_c_im_10.predict(x__train_10)\n",
    "print(\"f1 score in training\",f1_score(y_train,y_pred_c_im_train_10))\n",
    "print(\"accuracy in training\",accuracy_score(y_train,y_pred_c_im_train))\n",
    "y_pred_c_im_10=clf_c_im_10.predict(x__validate_10)\n",
    "print(\"f1 score in validation\",f1_score(y_validate, y_pred_c_im_10))\n",
    "print(\"accuracy in validation\",accuracy_score(y_validate, y_pred_c_im))\n",
    "plot_confusion_matrix(clf_c_im_10,x__validate_10,y_validate)  "
   ]
  },
  {
   "cell_type": "code",
   "execution_count": 144,
   "metadata": {},
   "outputs": [
    {
     "data": {
      "image/png": "[encoded data removed]",
      "text/plain": [
       "<Figure size 576x576 with 1 Axes>"
      ]
     },
     "metadata": {
      "needs_background": "light"
     },
     "output_type": "display_data"
    }
   ],
   "source": [
    "# false positive rate, true positive rate, thresholds\n",
    "fpr1, tpr1, thresholds1 = metrics.roc_curve(y_validate, y_pred_c_im_10)\n",
    "fpr2, tpr2, thresholds2 = metrics.roc_curve(y_train, y_pred_c_im_train_10)\n",
    " # auc score\n",
    "auc1 = metrics.auc(fpr1, tpr1)\n",
    "auc2 = metrics.auc(fpr2, tpr2)\n",
    "plt.figure(figsize=(8,8))\n",
    "# plot auc \n",
    "plt.plot(fpr1, tpr1, color='blue', label='Test ROC curve area = %0.2f'%auc1)\n",
    "plt.plot(fpr2, tpr2, color='green', label='Train ROC curve area = %0.2f'%auc2)\n",
    "plt.plot([0,1],[0,1], 'r--')\n",
    "plt.xlim([-0.1, 1.1])\n",
    "plt.ylim([-0.1, 1.1])\n",
    "plt.xlabel('False Positive Rate', size=14)\n",
    "plt.ylabel('True Positive Rate', size=14)\n",
    "plt.legend(loc='lower right')\n",
    "plt.show()"
   ]
  },
  {
   "cell_type": "code",
   "execution_count": 125,
   "metadata": {},
   "outputs": [],
   "source": [
    "#save model\n",
    "pickle.dump(clf_c_im, open('D:/project_cs/catboost_im_10.sav','wb'))"
   ]
  },
  {
   "cell_type": "code",
   "execution_count": 141,
   "metadata": {},
   "outputs": [
    {
     "data": {
      "text/plain": [
       "0.00040600000647827983"
      ]
     },
     "execution_count": 141,
     "metadata": {},
     "output_type": "execute_result"
    }
   ],
   "source": [
    "import timeit\n",
    "sst = timeit.timeit()\n",
    "out=clf_c_im_10.predict(x__validate.iloc[:1])\n",
    "end = timeit.timeit()\n",
    "end-sst"
   ]
  },
  {
   "cell_type": "code",
   "execution_count": 143,
   "metadata": {},
   "outputs": [
    {
     "data": {
      "text/plain": [
       "datetime.timedelta(microseconds=1000)"
      ]
     },
     "execution_count": 143,
     "metadata": {},
     "output_type": "execute_result"
    }
   ],
   "source": [
    "import datetime\n",
    "start = datetime.datetime.now()\n",
    "out=clf_c_im.predict(x__validate.iloc[:1])\n",
    "end = datetime.datetime.now()\n",
    "(end-start)"
   ]
  },
  {
   "cell_type": "code",
   "execution_count": null,
   "metadata": {},
   "outputs": [],
   "source": []
  }
 ],
 "metadata": {
  "kernelspec": {
   "display_name": "Python 3 (ipykernel)",
   "language": "python",
   "name": "python3"
  },
  "language_info": {
   "codemirror_mode": {
    "name": "ipython",
    "version": 3
   },
   "file_extension": ".py",
   "mimetype": "text/x-python",
   "name": "python",
   "nbconvert_exporter": "python",
   "pygments_lexer": "ipython3",
   "version": "3.8.2"
  }
 },
 "nbformat": 4,
 "nbformat_minor": 4
}
