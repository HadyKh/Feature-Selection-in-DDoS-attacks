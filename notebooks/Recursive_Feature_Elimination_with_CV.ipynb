{
 "cells": [
  {
   "cell_type": "code",
   "execution_count": 4,
   "id": "fb41a45f",
   "metadata": {},
   "outputs": [],
   "source": [
    "import numpy as np\n",
    "import pandas as pd\n",
    "import seaborn as sns\n",
    "import matplotlib.pyplot as plt\n",
    "import seaborn as sns\n",
    "from sklearn.model_selection import train_test_split\n",
    "import warnings\n",
    "warnings.filterwarnings(\"ignore\")\n"
   ]
  },
  {
   "cell_type": "code",
   "execution_count": 5,
   "id": "9eb72364",
   "metadata": {},
   "outputs": [],
   "source": [
    "cols = ['Flow ID', 'Source IP', 'Source Port', 'Destination IP', 'Destination Port', 'Protocol', 'Timestamp',\n",
    "'Flow Duration', 'Total Fwd Packets', 'Total Backward Packets','Total Length of Fwd Packets', 'Total Length of Bwd Packets',\n",
    "'Fwd Packet Length Max', 'Fwd Packet Length Min','Fwd Packet Length Mean','Fwd Packet Length Std', 'Bwd Packet Length Max',\n",
    "'Bwd Packet Length Min', 'Bwd Packet Length Mean', 'Bwd Packet Length Std', 'Flow Bytes/s', 'Flow Packets/s', 'Flow IAT Mean',\n",
    "'Flow IAT Std', 'Flow IAT Max', 'Flow IAT Min', 'Fwd IAT Total', 'Fwd IAT Mean', 'Fwd IAT Std', 'Fwd IAT Max', 'Fwd IAT Min',\n",
    "'Bwd IAT Total', 'Bwd IAT Mean', 'Bwd IAT Std', 'Bwd IAT Max', 'Bwd IAT Min', 'Fwd PSH Flags', 'Bwd PSH Flags', 'Fwd URG Flags',\n",
    "'Bwd URG Flags', 'Fwd Header Length', 'Bwd Header Length', 'Fwd Packets/s', 'Bwd Packets/s', 'Min Packet Length', 'Max Packet Length',\n",
    "'Packet Length Mean', 'Packet Length Std', 'Packet Length Variance', 'FIN Flag Count', 'SYN Flag Count', 'RST Flag Count',\n",
    "'PSH Flag Count', 'ACK Flag Count', 'URG Flag Count', 'CWE Flag Count', 'ECE Flag Count', 'Down/Up Ratio', 'Average Packet Size',\n",
    "'Avg Fwd Segment Size', 'Avg Bwd Segment Size', 'Fwd Header Length.1', 'Fwd Avg Bytes/Bulk', 'Fwd Avg Packets/Bulk','Fwd Avg Bulk Rate',\n",
    "'Bwd Avg Bytes/Bulk', 'Bwd Avg Packets/Bulk', 'Bwd Avg Bulk Rate', 'Subflow Fwd Packets', 'Subflow Fwd Bytes', 'Subflow Bwd Packets',\n",
    "'Subflow Bwd Bytes', 'Init_Win_bytes_forward', 'Init_Win_bytes_backward', 'act_data_pkt_fwd', 'min_seg_size_forward',\n",
    "'Active Mean', 'Active Std', 'Active Max', 'Active Min','Idle Mean', 'Idle Std', 'Idle Max', 'Idle Min','SimillarHTTP',\n",
    "'Inbound', 'Label']"
   ]
  },
  {
   "cell_type": "code",
   "execution_count": 6,
   "id": "eb364181",
   "metadata": {},
   "outputs": [
    {
     "name": "stdout",
     "output_type": "stream",
     "text": [
      "87\n"
     ]
    }
   ],
   "source": [
    "print(len(cols))"
   ]
  },
  {
   "cell_type": "code",
   "execution_count": 7,
   "id": "c248ec03",
   "metadata": {},
   "outputs": [],
   "source": [
    "training_path=\"C:/Users/JO/Documents/CS_GroupProject/training.csv\"\n",
    "validation_path=\"C:/Users/JO/Documents/CS_GroupProject/validation.csv\"\n",
    "testing_path=\"C:/Users/JO/Documents/CS_GroupProject/testing.csv\"\n"
   ]
  },
  {
   "cell_type": "code",
   "execution_count": 8,
   "id": "946c1e6a",
   "metadata": {},
   "outputs": [
    {
     "data": {
      "text/html": [
       "<div>\n",
       "<style scoped>\n",
       "    .dataframe tbody tr th:only-of-type {\n",
       "        vertical-align: middle;\n",
       "    }\n",
       "\n",
       "    .dataframe tbody tr th {\n",
       "        vertical-align: top;\n",
       "    }\n",
       "\n",
       "    .dataframe thead th {\n",
       "        text-align: right;\n",
       "    }\n",
       "</style>\n",
       "<table border=\"1\" class=\"dataframe\">\n",
       "  <thead>\n",
       "    <tr style=\"text-align: right;\">\n",
       "      <th></th>\n",
       "      <th>Flow ID</th>\n",
       "      <th>Source IP</th>\n",
       "      <th>Source Port</th>\n",
       "      <th>Destination IP</th>\n",
       "      <th>Destination Port</th>\n",
       "      <th>Protocol</th>\n",
       "      <th>Timestamp</th>\n",
       "      <th>Flow Duration</th>\n",
       "      <th>Total Fwd Packets</th>\n",
       "      <th>Total Backward Packets</th>\n",
       "      <th>...</th>\n",
       "      <th>Active Std</th>\n",
       "      <th>Active Max</th>\n",
       "      <th>Active Min</th>\n",
       "      <th>Idle Mean</th>\n",
       "      <th>Idle Std</th>\n",
       "      <th>Idle Max</th>\n",
       "      <th>Idle Min</th>\n",
       "      <th>SimillarHTTP</th>\n",
       "      <th>Inbound</th>\n",
       "      <th>Label</th>\n",
       "    </tr>\n",
       "  </thead>\n",
       "  <tbody>\n",
       "    <tr>\n",
       "      <th>0</th>\n",
       "      <td>172.16.0.5-192.168.50.1-746-24675-17</td>\n",
       "      <td>172.16.0.5</td>\n",
       "      <td>746</td>\n",
       "      <td>192.168.50.1</td>\n",
       "      <td>24675</td>\n",
       "      <td>17</td>\n",
       "      <td>2018-12-01 11:07:56.502353</td>\n",
       "      <td>1</td>\n",
       "      <td>2</td>\n",
       "      <td>0</td>\n",
       "      <td>...</td>\n",
       "      <td>0.0</td>\n",
       "      <td>0.0</td>\n",
       "      <td>0.0</td>\n",
       "      <td>0.0</td>\n",
       "      <td>0.0</td>\n",
       "      <td>0.0</td>\n",
       "      <td>0.0</td>\n",
       "      <td>0</td>\n",
       "      <td>1</td>\n",
       "      <td>DrDoS_DNS</td>\n",
       "    </tr>\n",
       "    <tr>\n",
       "      <th>1</th>\n",
       "      <td>172.16.0.5-192.168.50.1-851-5766-17</td>\n",
       "      <td>172.16.0.5</td>\n",
       "      <td>851</td>\n",
       "      <td>192.168.50.1</td>\n",
       "      <td>5766</td>\n",
       "      <td>17</td>\n",
       "      <td>2018-12-01 11:06:32.000712</td>\n",
       "      <td>1</td>\n",
       "      <td>2</td>\n",
       "      <td>0</td>\n",
       "      <td>...</td>\n",
       "      <td>0.0</td>\n",
       "      <td>0.0</td>\n",
       "      <td>0.0</td>\n",
       "      <td>0.0</td>\n",
       "      <td>0.0</td>\n",
       "      <td>0.0</td>\n",
       "      <td>0.0</td>\n",
       "      <td>0</td>\n",
       "      <td>1</td>\n",
       "      <td>DrDoS_DNS</td>\n",
       "    </tr>\n",
       "    <tr>\n",
       "      <th>2</th>\n",
       "      <td>172.16.0.5-192.168.50.1-935-24548-17</td>\n",
       "      <td>172.16.0.5</td>\n",
       "      <td>935</td>\n",
       "      <td>192.168.50.1</td>\n",
       "      <td>24548</td>\n",
       "      <td>17</td>\n",
       "      <td>2018-12-01 11:08:48.524934</td>\n",
       "      <td>1</td>\n",
       "      <td>2</td>\n",
       "      <td>0</td>\n",
       "      <td>...</td>\n",
       "      <td>0.0</td>\n",
       "      <td>0.0</td>\n",
       "      <td>0.0</td>\n",
       "      <td>0.0</td>\n",
       "      <td>0.0</td>\n",
       "      <td>0.0</td>\n",
       "      <td>0.0</td>\n",
       "      <td>0</td>\n",
       "      <td>1</td>\n",
       "      <td>DrDoS_DNS</td>\n",
       "    </tr>\n",
       "    <tr>\n",
       "      <th>3</th>\n",
       "      <td>172.16.0.5-192.168.50.1-719-12510-17</td>\n",
       "      <td>172.16.0.5</td>\n",
       "      <td>719</td>\n",
       "      <td>192.168.50.1</td>\n",
       "      <td>12510</td>\n",
       "      <td>17</td>\n",
       "      <td>2018-12-01 11:13:23.585969</td>\n",
       "      <td>48</td>\n",
       "      <td>2</td>\n",
       "      <td>0</td>\n",
       "      <td>...</td>\n",
       "      <td>0.0</td>\n",
       "      <td>0.0</td>\n",
       "      <td>0.0</td>\n",
       "      <td>0.0</td>\n",
       "      <td>0.0</td>\n",
       "      <td>0.0</td>\n",
       "      <td>0.0</td>\n",
       "      <td>0</td>\n",
       "      <td>1</td>\n",
       "      <td>DrDoS_DNS</td>\n",
       "    </tr>\n",
       "    <tr>\n",
       "      <th>4</th>\n",
       "      <td>172.16.0.5-192.168.50.1-984-61717-17</td>\n",
       "      <td>172.16.0.5</td>\n",
       "      <td>984</td>\n",
       "      <td>192.168.50.1</td>\n",
       "      <td>61717</td>\n",
       "      <td>17</td>\n",
       "      <td>2018-12-01 11:12:57.299430</td>\n",
       "      <td>2</td>\n",
       "      <td>2</td>\n",
       "      <td>0</td>\n",
       "      <td>...</td>\n",
       "      <td>0.0</td>\n",
       "      <td>0.0</td>\n",
       "      <td>0.0</td>\n",
       "      <td>0.0</td>\n",
       "      <td>0.0</td>\n",
       "      <td>0.0</td>\n",
       "      <td>0.0</td>\n",
       "      <td>0</td>\n",
       "      <td>1</td>\n",
       "      <td>DrDoS_DNS</td>\n",
       "    </tr>\n",
       "  </tbody>\n",
       "</table>\n",
       "<p>5 rows × 87 columns</p>\n",
       "</div>"
      ],
      "text/plain": [
       "                                Flow ID   Source IP  Source Port  \\\n",
       "0  172.16.0.5-192.168.50.1-746-24675-17  172.16.0.5          746   \n",
       "1   172.16.0.5-192.168.50.1-851-5766-17  172.16.0.5          851   \n",
       "2  172.16.0.5-192.168.50.1-935-24548-17  172.16.0.5          935   \n",
       "3  172.16.0.5-192.168.50.1-719-12510-17  172.16.0.5          719   \n",
       "4  172.16.0.5-192.168.50.1-984-61717-17  172.16.0.5          984   \n",
       "\n",
       "  Destination IP  Destination Port  Protocol                   Timestamp  \\\n",
       "0   192.168.50.1             24675        17  2018-12-01 11:07:56.502353   \n",
       "1   192.168.50.1              5766        17  2018-12-01 11:06:32.000712   \n",
       "2   192.168.50.1             24548        17  2018-12-01 11:08:48.524934   \n",
       "3   192.168.50.1             12510        17  2018-12-01 11:13:23.585969   \n",
       "4   192.168.50.1             61717        17  2018-12-01 11:12:57.299430   \n",
       "\n",
       "   Flow Duration  Total Fwd Packets  Total Backward Packets  ...  Active Std  \\\n",
       "0              1                  2                       0  ...         0.0   \n",
       "1              1                  2                       0  ...         0.0   \n",
       "2              1                  2                       0  ...         0.0   \n",
       "3             48                  2                       0  ...         0.0   \n",
       "4              2                  2                       0  ...         0.0   \n",
       "\n",
       "   Active Max  Active Min  Idle Mean  Idle Std  Idle Max  Idle Min  \\\n",
       "0         0.0         0.0        0.0       0.0       0.0       0.0   \n",
       "1         0.0         0.0        0.0       0.0       0.0       0.0   \n",
       "2         0.0         0.0        0.0       0.0       0.0       0.0   \n",
       "3         0.0         0.0        0.0       0.0       0.0       0.0   \n",
       "4         0.0         0.0        0.0       0.0       0.0       0.0   \n",
       "\n",
       "   SimillarHTTP  Inbound      Label  \n",
       "0             0        1  DrDoS_DNS  \n",
       "1             0        1  DrDoS_DNS  \n",
       "2             0        1  DrDoS_DNS  \n",
       "3             0        1  DrDoS_DNS  \n",
       "4             0        1  DrDoS_DNS  \n",
       "\n",
       "[5 rows x 87 columns]"
      ]
     },
     "execution_count": 8,
     "metadata": {},
     "output_type": "execute_result"
    }
   ],
   "source": [
    "dataset = pd.read_csv(training_path,names = cols, header=None,skiprows = 1)#, names = cols, skiprows = 1)\n",
    "dataset.head(5)"
   ]
  },
  {
   "cell_type": "code",
   "execution_count": 9,
   "id": "e5e33236",
   "metadata": {},
   "outputs": [],
   "source": [
    "dataset_val = pd.read_csv(validation_path, names = cols, header=None,skiprows = 1)#, skiprows = 1"
   ]
  },
  {
   "cell_type": "code",
   "execution_count": 10,
   "id": "de8a1f25",
   "metadata": {},
   "outputs": [
    {
     "data": {
      "text/html": [
       "<div>\n",
       "<style scoped>\n",
       "    .dataframe tbody tr th:only-of-type {\n",
       "        vertical-align: middle;\n",
       "    }\n",
       "\n",
       "    .dataframe tbody tr th {\n",
       "        vertical-align: top;\n",
       "    }\n",
       "\n",
       "    .dataframe thead th {\n",
       "        text-align: right;\n",
       "    }\n",
       "</style>\n",
       "<table border=\"1\" class=\"dataframe\">\n",
       "  <thead>\n",
       "    <tr style=\"text-align: right;\">\n",
       "      <th></th>\n",
       "      <th>Flow ID</th>\n",
       "      <th>Source IP</th>\n",
       "      <th>Source Port</th>\n",
       "      <th>Destination IP</th>\n",
       "      <th>Destination Port</th>\n",
       "      <th>Protocol</th>\n",
       "      <th>Timestamp</th>\n",
       "      <th>Flow Duration</th>\n",
       "      <th>Total Fwd Packets</th>\n",
       "      <th>Total Backward Packets</th>\n",
       "      <th>...</th>\n",
       "      <th>Active Std</th>\n",
       "      <th>Active Max</th>\n",
       "      <th>Active Min</th>\n",
       "      <th>Idle Mean</th>\n",
       "      <th>Idle Std</th>\n",
       "      <th>Idle Max</th>\n",
       "      <th>Idle Min</th>\n",
       "      <th>SimillarHTTP</th>\n",
       "      <th>Inbound</th>\n",
       "      <th>Label</th>\n",
       "    </tr>\n",
       "  </thead>\n",
       "  <tbody>\n",
       "    <tr>\n",
       "      <th>0</th>\n",
       "      <td>172.16.0.5-192.168.50.1-673-62967-17</td>\n",
       "      <td>172.16.0.5</td>\n",
       "      <td>673</td>\n",
       "      <td>192.168.50.1</td>\n",
       "      <td>62967</td>\n",
       "      <td>17</td>\n",
       "      <td>2018-12-01 11:15:59.921207</td>\n",
       "      <td>2</td>\n",
       "      <td>2</td>\n",
       "      <td>0</td>\n",
       "      <td>...</td>\n",
       "      <td>0.0</td>\n",
       "      <td>0.0</td>\n",
       "      <td>0.0</td>\n",
       "      <td>0.0</td>\n",
       "      <td>0.0</td>\n",
       "      <td>0.0</td>\n",
       "      <td>0.0</td>\n",
       "      <td>0</td>\n",
       "      <td>1</td>\n",
       "      <td>DrDoS_DNS</td>\n",
       "    </tr>\n",
       "    <tr>\n",
       "      <th>1</th>\n",
       "      <td>172.16.0.5-192.168.50.1-564-39431-17</td>\n",
       "      <td>172.16.0.5</td>\n",
       "      <td>564</td>\n",
       "      <td>192.168.50.1</td>\n",
       "      <td>39431</td>\n",
       "      <td>17</td>\n",
       "      <td>2018-12-01 11:16:03.133272</td>\n",
       "      <td>49</td>\n",
       "      <td>2</td>\n",
       "      <td>0</td>\n",
       "      <td>...</td>\n",
       "      <td>0.0</td>\n",
       "      <td>0.0</td>\n",
       "      <td>0.0</td>\n",
       "      <td>0.0</td>\n",
       "      <td>0.0</td>\n",
       "      <td>0.0</td>\n",
       "      <td>0.0</td>\n",
       "      <td>0</td>\n",
       "      <td>1</td>\n",
       "      <td>DrDoS_DNS</td>\n",
       "    </tr>\n",
       "    <tr>\n",
       "      <th>2</th>\n",
       "      <td>172.16.0.5-192.168.50.1-642-56652-17</td>\n",
       "      <td>172.16.0.5</td>\n",
       "      <td>642</td>\n",
       "      <td>192.168.50.1</td>\n",
       "      <td>56652</td>\n",
       "      <td>17</td>\n",
       "      <td>2018-12-01 11:16:03.356155</td>\n",
       "      <td>1</td>\n",
       "      <td>2</td>\n",
       "      <td>0</td>\n",
       "      <td>...</td>\n",
       "      <td>0.0</td>\n",
       "      <td>0.0</td>\n",
       "      <td>0.0</td>\n",
       "      <td>0.0</td>\n",
       "      <td>0.0</td>\n",
       "      <td>0.0</td>\n",
       "      <td>0.0</td>\n",
       "      <td>0</td>\n",
       "      <td>1</td>\n",
       "      <td>DrDoS_DNS</td>\n",
       "    </tr>\n",
       "    <tr>\n",
       "      <th>3</th>\n",
       "      <td>172.16.0.5-192.168.50.1-980-6257-17</td>\n",
       "      <td>172.16.0.5</td>\n",
       "      <td>980</td>\n",
       "      <td>192.168.50.1</td>\n",
       "      <td>6257</td>\n",
       "      <td>17</td>\n",
       "      <td>2018-12-01 11:15:58.247609</td>\n",
       "      <td>3</td>\n",
       "      <td>2</td>\n",
       "      <td>0</td>\n",
       "      <td>...</td>\n",
       "      <td>0.0</td>\n",
       "      <td>0.0</td>\n",
       "      <td>0.0</td>\n",
       "      <td>0.0</td>\n",
       "      <td>0.0</td>\n",
       "      <td>0.0</td>\n",
       "      <td>0.0</td>\n",
       "      <td>0</td>\n",
       "      <td>1</td>\n",
       "      <td>DrDoS_DNS</td>\n",
       "    </tr>\n",
       "    <tr>\n",
       "      <th>4</th>\n",
       "      <td>172.16.0.5-192.168.50.1-914-6074-17</td>\n",
       "      <td>172.16.0.5</td>\n",
       "      <td>914</td>\n",
       "      <td>192.168.50.1</td>\n",
       "      <td>6074</td>\n",
       "      <td>17</td>\n",
       "      <td>2018-12-01 11:16:01.963154</td>\n",
       "      <td>1</td>\n",
       "      <td>2</td>\n",
       "      <td>0</td>\n",
       "      <td>...</td>\n",
       "      <td>0.0</td>\n",
       "      <td>0.0</td>\n",
       "      <td>0.0</td>\n",
       "      <td>0.0</td>\n",
       "      <td>0.0</td>\n",
       "      <td>0.0</td>\n",
       "      <td>0.0</td>\n",
       "      <td>0</td>\n",
       "      <td>1</td>\n",
       "      <td>DrDoS_DNS</td>\n",
       "    </tr>\n",
       "  </tbody>\n",
       "</table>\n",
       "<p>5 rows × 87 columns</p>\n",
       "</div>"
      ],
      "text/plain": [
       "                                Flow ID   Source IP  Source Port  \\\n",
       "0  172.16.0.5-192.168.50.1-673-62967-17  172.16.0.5          673   \n",
       "1  172.16.0.5-192.168.50.1-564-39431-17  172.16.0.5          564   \n",
       "2  172.16.0.5-192.168.50.1-642-56652-17  172.16.0.5          642   \n",
       "3   172.16.0.5-192.168.50.1-980-6257-17  172.16.0.5          980   \n",
       "4   172.16.0.5-192.168.50.1-914-6074-17  172.16.0.5          914   \n",
       "\n",
       "  Destination IP  Destination Port  Protocol                   Timestamp  \\\n",
       "0   192.168.50.1             62967        17  2018-12-01 11:15:59.921207   \n",
       "1   192.168.50.1             39431        17  2018-12-01 11:16:03.133272   \n",
       "2   192.168.50.1             56652        17  2018-12-01 11:16:03.356155   \n",
       "3   192.168.50.1              6257        17  2018-12-01 11:15:58.247609   \n",
       "4   192.168.50.1              6074        17  2018-12-01 11:16:01.963154   \n",
       "\n",
       "   Flow Duration  Total Fwd Packets  Total Backward Packets  ...  Active Std  \\\n",
       "0              2                  2                       0  ...         0.0   \n",
       "1             49                  2                       0  ...         0.0   \n",
       "2              1                  2                       0  ...         0.0   \n",
       "3              3                  2                       0  ...         0.0   \n",
       "4              1                  2                       0  ...         0.0   \n",
       "\n",
       "   Active Max  Active Min  Idle Mean  Idle Std  Idle Max  Idle Min  \\\n",
       "0         0.0         0.0        0.0       0.0       0.0       0.0   \n",
       "1         0.0         0.0        0.0       0.0       0.0       0.0   \n",
       "2         0.0         0.0        0.0       0.0       0.0       0.0   \n",
       "3         0.0         0.0        0.0       0.0       0.0       0.0   \n",
       "4         0.0         0.0        0.0       0.0       0.0       0.0   \n",
       "\n",
       "   SimillarHTTP  Inbound      Label  \n",
       "0             0        1  DrDoS_DNS  \n",
       "1             0        1  DrDoS_DNS  \n",
       "2             0        1  DrDoS_DNS  \n",
       "3             0        1  DrDoS_DNS  \n",
       "4             0        1  DrDoS_DNS  \n",
       "\n",
       "[5 rows x 87 columns]"
      ]
     },
     "execution_count": 10,
     "metadata": {},
     "output_type": "execute_result"
    }
   ],
   "source": [
    "dataset_val.head(5)"
   ]
  },
  {
   "cell_type": "code",
   "execution_count": 11,
   "id": "40b37ae5",
   "metadata": {},
   "outputs": [
    {
     "data": {
      "text/plain": [
       "87"
      ]
     },
     "execution_count": 11,
     "metadata": {},
     "output_type": "execute_result"
    }
   ],
   "source": [
    "len(dataset_val.columns)"
   ]
  },
  {
   "cell_type": "markdown",
   "id": "29901615",
   "metadata": {},
   "source": [
    "##### Drop Categorical features"
   ]
  },
  {
   "cell_type": "code",
   "execution_count": 12,
   "id": "738625ee",
   "metadata": {},
   "outputs": [],
   "source": [
    "dataset.drop(['Flow ID', 'Source IP', 'Source Port', 'Destination IP', 'Destination Port', 'Protocol', 'Timestamp'], axis = 1, inplace = True)\n",
    "dataset_val.drop(['Flow ID', 'Source IP', 'Source Port', 'Destination IP', 'Destination Port', 'Protocol', 'Timestamp'], axis = 1, inplace = True)"
   ]
  },
  {
   "cell_type": "markdown",
   "id": "a3fba5de",
   "metadata": {},
   "source": [
    "#### Drop Columns with only one value"
   ]
  },
  {
   "cell_type": "code",
   "execution_count": 13,
   "id": "270debec",
   "metadata": {},
   "outputs": [],
   "source": [
    "dataset.drop(['Bwd PSH Flags', 'Fwd URG Flags', 'Bwd URG Flags', 'FIN Flag Count', 'PSH Flag Count', 'ECE Flag Count',\n",
    "              'Fwd Avg Bytes/Bulk', 'Fwd Avg Packets/Bulk', 'Fwd Avg Bulk Rate', 'Bwd Avg Bytes/Bulk', \n",
    "             'Bwd Avg Packets/Bulk', 'Bwd Avg Bulk Rate'], axis = 1, inplace = True)\n",
    "dataset_val.drop(['Bwd PSH Flags', 'Fwd URG Flags', 'Bwd URG Flags', 'FIN Flag Count', 'PSH Flag Count', 'ECE Flag Count',\n",
    "              'Fwd Avg Bytes/Bulk', 'Fwd Avg Packets/Bulk', 'Fwd Avg Bulk Rate', 'Bwd Avg Bytes/Bulk', \n",
    "             'Bwd Avg Packets/Bulk', 'Bwd Avg Bulk Rate'], axis = 1, inplace = True)"
   ]
  },
  {
   "cell_type": "code",
   "execution_count": 14,
   "id": "a2ce3e57",
   "metadata": {},
   "outputs": [],
   "source": [
    "from sklearn.preprocessing import LabelEncoder\n",
    "\n",
    "dataset['Label'] = dataset['Label'].replace({ 'DrDoS_DNS': 1})\n",
    "dataset['Label'] = dataset['Label'].replace({ 'BENIGN': 0})\n",
    "dataset_val['Label'] = dataset_val['Label'].replace({ 'DrDoS_DNS': 1})\n",
    "dataset_val['Label'] = dataset_val['Label'].replace({ 'BENIGN': 0})\n",
    "\n",
    "lbl_encoder = LabelEncoder()\n",
    "dataset['SimillarHTTP'] = dataset['SimillarHTTP'].apply(lambda x : pd.to_numeric(x, errors='coerce'))\n",
    "dataset_val['SimillarHTTP'] = dataset['SimillarHTTP'].apply(lambda x : pd.to_numeric(x, errors='coerce'))\n",
    "dataset['SimillarHTTP'] = lbl_encoder.fit_transform(dataset['SimillarHTTP'])\n"
   ]
  },
  {
   "cell_type": "code",
   "execution_count": 15,
   "id": "ed73d2df",
   "metadata": {},
   "outputs": [],
   "source": [
    "dataset_val['SimillarHTTP'] = lbl_encoder.fit_transform(dataset_val['SimillarHTTP'])"
   ]
  },
  {
   "cell_type": "markdown",
   "id": "d0714866",
   "metadata": {},
   "source": [
    "#### Nan values handlation"
   ]
  },
  {
   "cell_type": "code",
   "execution_count": 16,
   "id": "a4c690c6",
   "metadata": {},
   "outputs": [],
   "source": [
    "corr_df = pd.DataFrame()\n",
    "corr_df['Label'] = dataset['Label']\n",
    "corr_df['Flow Bytes/s'] = dataset['Flow Bytes/s']"
   ]
  },
  {
   "cell_type": "code",
   "execution_count": 17,
   "id": "0f59218d",
   "metadata": {},
   "outputs": [
    {
     "data": {
      "text/plain": [
       "<AxesSubplot:>"
      ]
     },
     "execution_count": 17,
     "metadata": {},
     "output_type": "execute_result"
    },
    {
     "data": {
      "image/png": "[encoded data removed]",
      "text/plain": [
       "<Figure size 360x432 with 2 Axes>"
      ]
     },
     "metadata": {},
     "output_type": "display_data"
    }
   ],
   "source": [
    "plt.figure(figsize=(5,6))\n",
    "sns.heatmap(corr_df.corr(), annot = True, cmap = 'coolwarm')"
   ]
  },
  {
   "cell_type": "code",
   "execution_count": 18,
   "id": "7ed35c00",
   "metadata": {},
   "outputs": [],
   "source": [
    "# Replacing infinite with nan\n",
    "dataset.replace([np.inf, -np.inf], np.nan, inplace=True)\n",
    "# replacing nan with mean values \n",
    "# df.apply(lambda x: x.fillna(x.mean()),axis=0)\n",
    "dataset.fillna(value=dataset.mean(), inplace=True)"
   ]
  },
  {
   "cell_type": "code",
   "execution_count": 19,
   "id": "c030ad20",
   "metadata": {},
   "outputs": [],
   "source": [
    "# Replacing infinite with nan\n",
    "dataset_val.replace([np.inf, -np.inf], np.nan, inplace=True)\n",
    "# replacing nan with mean values \n",
    "# df.apply(lambda x: x.fillna(x.mean()),axis=0)\n",
    "dataset_val.fillna(value=dataset_val.mean(), inplace=True)"
   ]
  },
  {
   "cell_type": "code",
   "execution_count": 20,
   "id": "e8c8253e",
   "metadata": {},
   "outputs": [
    {
     "name": "stdout",
     "output_type": "stream",
     "text": [
      "<class 'pandas.core.frame.DataFrame'>\n"
     ]
    }
   ],
   "source": [
    "print(type(dataset))"
   ]
  },
  {
   "cell_type": "code",
   "execution_count": 21,
   "id": "764f15ab",
   "metadata": {},
   "outputs": [],
   "source": [
    "dataset.drop(['Flow Bytes/s'], axis = 1, inplace = True)\n",
    "xtrain, ytrain = dataset.iloc[:,:-1], dataset['Label']\n",
    "dataset_val.drop(['Flow Bytes/s'], axis = 1, inplace = True)\n",
    "x_val, y_val = dataset_val.iloc[:,:-1], dataset_val['Label']\n",
    "# dropping the columns with nan values as the correlation is very low"
   ]
  },
  {
   "cell_type": "code",
   "execution_count": 22,
   "id": "b3245e2e",
   "metadata": {},
   "outputs": [
    {
     "name": "stdout",
     "output_type": "stream",
     "text": [
      "67\n",
      "67\n"
     ]
    }
   ],
   "source": [
    "print(len(dataset.columns))\n",
    "print(len(dataset_val.columns))"
   ]
  },
  {
   "cell_type": "code",
   "execution_count": 23,
   "id": "c81d07dc",
   "metadata": {},
   "outputs": [],
   "source": [
    "# ANOVA feature selection for numeric input and categorical output\n",
    "from sklearn.datasets import make_classification\n",
    "from sklearn.feature_selection import SelectKBest\n",
    "from sklearn.feature_selection import f_classif\n",
    "# generate dataset\n",
    "#X, y = make_classification(n_samples=100, n_features=20, n_informative=2)\n",
    "# define feature selection"
   ]
  },
  {
   "cell_type": "code",
   "execution_count": 24,
   "id": "6f0d5c2e",
   "metadata": {},
   "outputs": [
    {
     "name": "stdout",
     "output_type": "stream",
     "text": [
      "False\n"
     ]
    }
   ],
   "source": [
    "print(ytrain.isnull().values.any())\n"
   ]
  },
  {
   "cell_type": "code",
   "execution_count": 22,
   "id": "44629151",
   "metadata": {},
   "outputs": [
    {
     "data": {
      "text/plain": [
       "<AxesSubplot:>"
      ]
     },
     "execution_count": 22,
     "metadata": {},
     "output_type": "execute_result"
    },
    {
     "data": {
      "image/png": "[encoded data removed]",
      "text/plain": [
       "<Figure size 2160x2160 with 2 Axes>"
      ]
     },
     "metadata": {
      "needs_background": "light"
     },
     "output_type": "display_data"
    }
   ],
   "source": [
    "# run correlation matrix and plot\n",
    "f, ax = plt.subplots(figsize=(30, 30))\n",
    "corr = dataset.corr()\n",
    "sns.heatmap(corr, mask=np.zeros_like(corr, dtype=np.bool),\n",
    "            cmap=sns.diverging_palette(220, 10, as_cmap=True),\n",
    "            square=True, ax=ax)#annot=True,fmt=\".1\""
   ]
  },
  {
   "cell_type": "code",
   "execution_count": 25,
   "id": "85d32f4b",
   "metadata": {},
   "outputs": [],
   "source": [
    "from sklearn.feature_selection import SelectKBest"
   ]
  },
  {
   "cell_type": "code",
   "execution_count": 24,
   "id": "7ce50f4c",
   "metadata": {},
   "outputs": [],
   "source": [
    "#xtrain, ytrain \n",
    "#feature_selector = SelectKBest(score_func=f_classif, k = \"all\")\n",
    "#fit = feature_selector.fit(xtrain,ytrain)\n"
   ]
  },
  {
   "cell_type": "code",
   "execution_count": 25,
   "id": "aa7a3a7a",
   "metadata": {},
   "outputs": [],
   "source": [
    "\n",
    "#p_values = pd.DataFrame(fit.pvalues_)\n",
    "#scores = pd.DataFrame(fit.scores_)\n",
    "#input_variable_names = pd.DataFrame(xtrain.columns)"
   ]
  },
  {
   "cell_type": "code",
   "execution_count": 26,
   "id": "4b78e730",
   "metadata": {},
   "outputs": [],
   "source": [
    "# summary_stats = pd.concat([input_variable_names, p_values, scores], axis = 1)\n",
    "# summary_stats.columns = [\"input_variable\", \"p_value\", \"chi2_score\"]\n",
    "# summary_stats.sort_values(by = \"p_value\", inplace = True)\n"
   ]
  },
  {
   "cell_type": "code",
   "execution_count": 27,
   "id": "09f62dec",
   "metadata": {},
   "outputs": [],
   "source": [
    "# p_value_threshold = 0.05\n",
    "# score_threshold = 5\n"
   ]
  },
  {
   "cell_type": "code",
   "execution_count": 28,
   "id": "a01a3381",
   "metadata": {},
   "outputs": [],
   "source": [
    "\n",
    "\n",
    "# selected_variables = summary_stats.loc[(summary_stats[\"chi2_score\"] >= score_threshold) &\n",
    "#                                        (summary_stats[\"p_value\"] <= p_value_threshold)]\n",
    "# selected_variables = selected_variables[\"input_variable\"].tolist()\n",
    "# X_new = xtrain[selected_variables]"
   ]
  },
  {
   "cell_type": "code",
   "execution_count": 29,
   "id": "2b7aa30d",
   "metadata": {},
   "outputs": [
    {
     "data": {
      "text/plain": [
       "(4002000, 62)"
      ]
     },
     "execution_count": 29,
     "metadata": {},
     "output_type": "execute_result"
    }
   ],
   "source": [
    "#X_new.shape"
   ]
  },
  {
   "cell_type": "code",
   "execution_count": 17,
   "id": "6dc4146c",
   "metadata": {},
   "outputs": [
    {
     "name": "stdout",
     "output_type": "stream",
     "text": [
      "(4002000, 66)\n"
     ]
    }
   ],
   "source": [
    "\n",
    "#fs = SelectKBest(score_func=f_classif, k=\"all\")\n",
    "# apply feature selection\n",
    "#X_selected = fs.fit_transform(xtrain, ytrain)\n",
    "#print(X_selected.shape)"
   ]
  },
  {
   "cell_type": "code",
   "execution_count": 27,
   "id": "53d5e952",
   "metadata": {},
   "outputs": [],
   "source": [
    "from sklearn.feature_selection import RFECV \n",
    "from sklearn.linear_model import LinearRegression\n",
    "import matplotlib.pyplot as plt"
   ]
  },
  {
   "cell_type": "code",
   "execution_count": 28,
   "id": "ffe11490",
   "metadata": {},
   "outputs": [
    {
     "name": "stdout",
     "output_type": "stream",
     "text": [
      "Optimal numer of features: 10\n"
     ]
    }
   ],
   "source": [
    "regressor = LinearRegression()\n",
    "feature_selector = RFECV(regressor)\n",
    "\n",
    "fit = feature_selector.fit(xtrain,ytrain)\n",
    "\n",
    "optimal_feature_count = feature_selector.n_features_\n",
    "print(f\"Optimal numer of features: {optimal_feature_count}\")"
   ]
  },
  {
   "cell_type": "code",
   "execution_count": 29,
   "id": "5b6c709b",
   "metadata": {},
   "outputs": [],
   "source": [
    "optimal_feature_idx=fit.get_support(indices=True)"
   ]
  },
  {
   "cell_type": "code",
   "execution_count": 30,
   "id": "9e55b570",
   "metadata": {},
   "outputs": [
    {
     "ename": "ValueError",
     "evalue": "The truth value of an array with more than one element is ambiguous. Use a.any() or a.all()",
     "output_type": "error",
     "traceback": [
      "\u001b[1;31m---------------------------------------------------------------------------\u001b[0m",
      "\u001b[1;31mValueError\u001b[0m                                Traceback (most recent call last)",
      "\u001b[1;32m~\\AppData\\Local\\Temp/ipykernel_9076/2345556005.py\u001b[0m in \u001b[0;36m<module>\u001b[1;34m\u001b[0m\n\u001b[0;32m      4\u001b[0m \u001b[0mplt\u001b[0m\u001b[1;33m.\u001b[0m\u001b[0mylabel\u001b[0m\u001b[1;33m(\u001b[0m\u001b[1;34m\"Model Score\"\u001b[0m\u001b[1;33m)\u001b[0m\u001b[1;33m\u001b[0m\u001b[1;33m\u001b[0m\u001b[0m\n\u001b[0;32m      5\u001b[0m \u001b[0mplt\u001b[0m\u001b[1;33m.\u001b[0m\u001b[0mxlabel\u001b[0m\u001b[1;33m(\u001b[0m\u001b[1;34m\"Number of Features\"\u001b[0m\u001b[1;33m)\u001b[0m\u001b[1;33m\u001b[0m\u001b[1;33m\u001b[0m\u001b[0m\n\u001b[1;32m----> 6\u001b[1;33m \u001b[0mplt\u001b[0m\u001b[1;33m.\u001b[0m\u001b[0mtitle\u001b[0m\u001b[1;33m(\u001b[0m\u001b[1;34mf\"Feature Selection using RFE \\n Optimal number of features is {optimal_feature_count} (at score of {round(max(fit.grid_scores_), 4)})\"\u001b[0m\u001b[1;33m)\u001b[0m\u001b[1;33m\u001b[0m\u001b[1;33m\u001b[0m\u001b[0m\n\u001b[0m\u001b[0;32m      7\u001b[0m \u001b[0mplt\u001b[0m\u001b[1;33m.\u001b[0m\u001b[0mtight_layout\u001b[0m\u001b[1;33m(\u001b[0m\u001b[1;33m)\u001b[0m\u001b[1;33m\u001b[0m\u001b[1;33m\u001b[0m\u001b[0m\n\u001b[0;32m      8\u001b[0m \u001b[0mplt\u001b[0m\u001b[1;33m.\u001b[0m\u001b[0mshow\u001b[0m\u001b[1;33m(\u001b[0m\u001b[1;33m)\u001b[0m\u001b[1;33m\u001b[0m\u001b[1;33m\u001b[0m\u001b[0m\n",
      "\u001b[1;31mValueError\u001b[0m: The truth value of an array with more than one element is ambiguous. Use a.any() or a.all()"
     ]
    },
    {
     "data": {
      "image/png": "[encoded data removed]",
      "text/plain": [
       "<Figure size 576x396 with 1 Axes>"
      ]
     },
     "metadata": {},
     "output_type": "display_data"
    }
   ],
   "source": [
    "\n",
    "X_new = xtrain.loc[:, feature_selector.get_support()]\n",
    "\n",
    "plt.plot(range(1, len(fit.grid_scores_) + 1), fit.grid_scores_, marker = \"o\")\n",
    "plt.ylabel(\"Model Score\")\n",
    "plt.xlabel(\"Number of Features\")\n",
    "plt.title(f\"Feature Selection using RFE \\n Optimal number of features is {optimal_feature_count} (at score of {round(max(fit.grid_scores_), 4)})\")\n",
    "plt.tight_layout() \n",
    "plt.show()"
   ]
  },
  {
   "cell_type": "code",
   "execution_count": 31,
   "id": "b4cba5e4",
   "metadata": {},
   "outputs": [
    {
     "data": {
      "image/png": "[encoded data removed]",
      "text/plain": [
       "<Figure size 576x396 with 1 Axes>"
      ]
     },
     "metadata": {},
     "output_type": "display_data"
    }
   ],
   "source": [
    "min_features_to_select = 1  # Minimum number of features to consider\n",
    "# Plot number of features VS. cross-validation scores\n",
    "plt.figure()\n",
    "plt.xlabel(\"Number of features selected\")\n",
    "plt.ylabel(\"Cross validation score (accuracy)\")\n",
    "plt.plot(\n",
    "    range(min_features_to_select, len(fit.grid_scores_) + min_features_to_select),\n",
    "    fit.grid_scores_,\n",
    ")\n",
    "plt.show()"
   ]
  },
  {
   "cell_type": "code",
   "execution_count": 32,
   "id": "d52df7f2",
   "metadata": {},
   "outputs": [],
   "source": [
    "#(feature_selector.ranking_).plot(kind=\"barh\",color='teal')\n",
    "#plt.show()"
   ]
  },
  {
   "cell_type": "code",
   "execution_count": 33,
   "id": "9f5ad170",
   "metadata": {},
   "outputs": [
    {
     "data": {
      "text/plain": [
       "array([10, 28, 38, 39, 40, 41, 42, 43, 64, 65], dtype=int64)"
      ]
     },
     "execution_count": 33,
     "metadata": {},
     "output_type": "execute_result"
    }
   ],
   "source": [
    "feature_selector.get_support(indices=True)"
   ]
  },
  {
   "cell_type": "code",
   "execution_count": 34,
   "id": "d2162771",
   "metadata": {},
   "outputs": [
    {
     "data": {
      "text/html": [
       "<div>\n",
       "<style scoped>\n",
       "    .dataframe tbody tr th:only-of-type {\n",
       "        vertical-align: middle;\n",
       "    }\n",
       "\n",
       "    .dataframe tbody tr th {\n",
       "        vertical-align: top;\n",
       "    }\n",
       "\n",
       "    .dataframe thead th {\n",
       "        text-align: right;\n",
       "    }\n",
       "</style>\n",
       "<table border=\"1\" class=\"dataframe\">\n",
       "  <thead>\n",
       "    <tr style=\"text-align: right;\">\n",
       "      <th></th>\n",
       "      <th>Bwd Packet Length Min</th>\n",
       "      <th>Fwd PSH Flags</th>\n",
       "      <th>SYN Flag Count</th>\n",
       "      <th>RST Flag Count</th>\n",
       "      <th>ACK Flag Count</th>\n",
       "      <th>URG Flag Count</th>\n",
       "      <th>CWE Flag Count</th>\n",
       "      <th>Down/Up Ratio</th>\n",
       "      <th>SimillarHTTP</th>\n",
       "      <th>Inbound</th>\n",
       "    </tr>\n",
       "  </thead>\n",
       "  <tbody>\n",
       "    <tr>\n",
       "      <th>0</th>\n",
       "      <td>0.0</td>\n",
       "      <td>0</td>\n",
       "      <td>0</td>\n",
       "      <td>0</td>\n",
       "      <td>0</td>\n",
       "      <td>0</td>\n",
       "      <td>0</td>\n",
       "      <td>0.0</td>\n",
       "      <td>0</td>\n",
       "      <td>1</td>\n",
       "    </tr>\n",
       "    <tr>\n",
       "      <th>1</th>\n",
       "      <td>0.0</td>\n",
       "      <td>0</td>\n",
       "      <td>0</td>\n",
       "      <td>0</td>\n",
       "      <td>0</td>\n",
       "      <td>0</td>\n",
       "      <td>0</td>\n",
       "      <td>0.0</td>\n",
       "      <td>0</td>\n",
       "      <td>1</td>\n",
       "    </tr>\n",
       "    <tr>\n",
       "      <th>2</th>\n",
       "      <td>0.0</td>\n",
       "      <td>0</td>\n",
       "      <td>0</td>\n",
       "      <td>0</td>\n",
       "      <td>0</td>\n",
       "      <td>0</td>\n",
       "      <td>0</td>\n",
       "      <td>0.0</td>\n",
       "      <td>0</td>\n",
       "      <td>1</td>\n",
       "    </tr>\n",
       "    <tr>\n",
       "      <th>3</th>\n",
       "      <td>0.0</td>\n",
       "      <td>0</td>\n",
       "      <td>0</td>\n",
       "      <td>0</td>\n",
       "      <td>0</td>\n",
       "      <td>0</td>\n",
       "      <td>0</td>\n",
       "      <td>0.0</td>\n",
       "      <td>0</td>\n",
       "      <td>1</td>\n",
       "    </tr>\n",
       "    <tr>\n",
       "      <th>4</th>\n",
       "      <td>0.0</td>\n",
       "      <td>0</td>\n",
       "      <td>0</td>\n",
       "      <td>0</td>\n",
       "      <td>0</td>\n",
       "      <td>0</td>\n",
       "      <td>0</td>\n",
       "      <td>0.0</td>\n",
       "      <td>0</td>\n",
       "      <td>1</td>\n",
       "    </tr>\n",
       "    <tr>\n",
       "      <th>5</th>\n",
       "      <td>0.0</td>\n",
       "      <td>0</td>\n",
       "      <td>0</td>\n",
       "      <td>0</td>\n",
       "      <td>0</td>\n",
       "      <td>0</td>\n",
       "      <td>0</td>\n",
       "      <td>0.0</td>\n",
       "      <td>0</td>\n",
       "      <td>1</td>\n",
       "    </tr>\n",
       "    <tr>\n",
       "      <th>6</th>\n",
       "      <td>0.0</td>\n",
       "      <td>0</td>\n",
       "      <td>0</td>\n",
       "      <td>0</td>\n",
       "      <td>0</td>\n",
       "      <td>0</td>\n",
       "      <td>0</td>\n",
       "      <td>0.0</td>\n",
       "      <td>0</td>\n",
       "      <td>1</td>\n",
       "    </tr>\n",
       "    <tr>\n",
       "      <th>7</th>\n",
       "      <td>0.0</td>\n",
       "      <td>0</td>\n",
       "      <td>0</td>\n",
       "      <td>0</td>\n",
       "      <td>0</td>\n",
       "      <td>0</td>\n",
       "      <td>0</td>\n",
       "      <td>0.0</td>\n",
       "      <td>0</td>\n",
       "      <td>1</td>\n",
       "    </tr>\n",
       "    <tr>\n",
       "      <th>8</th>\n",
       "      <td>0.0</td>\n",
       "      <td>0</td>\n",
       "      <td>0</td>\n",
       "      <td>0</td>\n",
       "      <td>0</td>\n",
       "      <td>0</td>\n",
       "      <td>0</td>\n",
       "      <td>0.0</td>\n",
       "      <td>0</td>\n",
       "      <td>1</td>\n",
       "    </tr>\n",
       "    <tr>\n",
       "      <th>9</th>\n",
       "      <td>0.0</td>\n",
       "      <td>0</td>\n",
       "      <td>0</td>\n",
       "      <td>0</td>\n",
       "      <td>0</td>\n",
       "      <td>0</td>\n",
       "      <td>0</td>\n",
       "      <td>0.0</td>\n",
       "      <td>0</td>\n",
       "      <td>1</td>\n",
       "    </tr>\n",
       "  </tbody>\n",
       "</table>\n",
       "</div>"
      ],
      "text/plain": [
       "   Bwd Packet Length Min  Fwd PSH Flags  SYN Flag Count  RST Flag Count  \\\n",
       "0                    0.0              0               0               0   \n",
       "1                    0.0              0               0               0   \n",
       "2                    0.0              0               0               0   \n",
       "3                    0.0              0               0               0   \n",
       "4                    0.0              0               0               0   \n",
       "5                    0.0              0               0               0   \n",
       "6                    0.0              0               0               0   \n",
       "7                    0.0              0               0               0   \n",
       "8                    0.0              0               0               0   \n",
       "9                    0.0              0               0               0   \n",
       "\n",
       "   ACK Flag Count  URG Flag Count  CWE Flag Count  Down/Up Ratio  \\\n",
       "0               0               0               0            0.0   \n",
       "1               0               0               0            0.0   \n",
       "2               0               0               0            0.0   \n",
       "3               0               0               0            0.0   \n",
       "4               0               0               0            0.0   \n",
       "5               0               0               0            0.0   \n",
       "6               0               0               0            0.0   \n",
       "7               0               0               0            0.0   \n",
       "8               0               0               0            0.0   \n",
       "9               0               0               0            0.0   \n",
       "\n",
       "   SimillarHTTP  Inbound  \n",
       "0             0        1  \n",
       "1             0        1  \n",
       "2             0        1  \n",
       "3             0        1  \n",
       "4             0        1  \n",
       "5             0        1  \n",
       "6             0        1  \n",
       "7             0        1  \n",
       "8             0        1  \n",
       "9             0        1  "
      ]
     },
     "execution_count": 34,
     "metadata": {},
     "output_type": "execute_result"
    }
   ],
   "source": [
    "X_new.head(10)"
   ]
  },
  {
   "cell_type": "code",
   "execution_count": 35,
   "id": "f63ae7ab",
   "metadata": {},
   "outputs": [],
   "source": [
    "from sklearn.feature_selection import RFE\n",
    "from sklearn.svm import SVR"
   ]
  },
  {
   "cell_type": "markdown",
   "id": "51072199",
   "metadata": {},
   "source": [
    "## Applying shap"
   ]
  },
  {
   "cell_type": "code",
   "execution_count": 36,
   "id": "31459362",
   "metadata": {},
   "outputs": [
    {
     "name": "stdout",
     "output_type": "stream",
     "text": [
      "Requirement already satisfied: catboost in c:\\users\\jo\\anaconda3\\lib\\site-packages (1.0.5)Note: you may need to restart the kernel to use updated packages.\n",
      "Requirement already satisfied: six in c:\\users\\jo\\anaconda3\\lib\\site-packages (from catboost) (1.16.0)\n",
      "Requirement already satisfied: matplotlib in c:\\users\\jo\\anaconda3\\lib\\site-packages (from catboost) (3.4.3)\n",
      "Requirement already satisfied: pandas>=0.24.0 in c:\\users\\jo\\anaconda3\\lib\\site-packages (from catboost) (1.3.4)\n",
      "Requirement already satisfied: plotly in c:\\users\\jo\\anaconda3\\lib\\site-packages (from catboost) (4.14.3)\n",
      "Requirement already satisfied: numpy>=1.16.0 in c:\\users\\jo\\anaconda3\\lib\\site-packages (from catboost) (1.20.3)\n",
      "Requirement already satisfied: scipy in c:\\users\\jo\\anaconda3\\lib\\site-packages (from catboost) (1.7.1)\n",
      "Requirement already satisfied: graphviz in c:\\users\\jo\\anaconda3\\lib\\site-packages (from catboost) (0.19.2)\n",
      "\n",
      "Requirement already satisfied: pytz>=2017.3 in c:\\users\\jo\\anaconda3\\lib\\site-packages (from pandas>=0.24.0->catboost) (2021.3)\n",
      "Requirement already satisfied: python-dateutil>=2.7.3 in c:\\users\\jo\\anaconda3\\lib\\site-packages (from pandas>=0.24.0->catboost) (2.8.2)\n",
      "Requirement already satisfied: pillow>=6.2.0 in c:\\users\\jo\\anaconda3\\lib\\site-packages (from matplotlib->catboost) (8.4.0)\n",
      "Requirement already satisfied: cycler>=0.10 in c:\\users\\jo\\anaconda3\\lib\\site-packages (from matplotlib->catboost) (0.10.0)\n",
      "Requirement already satisfied: kiwisolver>=1.0.1 in c:\\users\\jo\\anaconda3\\lib\\site-packages (from matplotlib->catboost) (1.3.1)\n",
      "Requirement already satisfied: pyparsing>=2.2.1 in c:\\users\\jo\\anaconda3\\lib\\site-packages (from matplotlib->catboost) (3.0.4)\n",
      "Requirement already satisfied: retrying>=1.3.3 in c:\\users\\jo\\anaconda3\\lib\\site-packages (from plotly->catboost) (1.3.3)\n"
     ]
    }
   ],
   "source": [
    "%pip install catboost"
   ]
  },
  {
   "cell_type": "code",
   "execution_count": 37,
   "id": "6d2b1424",
   "metadata": {},
   "outputs": [],
   "source": [
    "#import shap\n",
    "from catboost import CatBoostClassifier"
   ]
  },
  {
   "cell_type": "code",
   "execution_count": 38,
   "id": "2b816885",
   "metadata": {},
   "outputs": [],
   "source": [
    "# choosing the model\n",
    "#model = CatBoostClassifier(iterations = 500, learning_rate = 0.05, eval_metric = 'F1', verbose = False, random_state = 42)\n",
    "#model.fit(X_new, ytrain, verbose=False,  plot=False)"
   ]
  },
  {
   "cell_type": "markdown",
   "id": "3431e2cb",
   "metadata": {},
   "source": [
    "#### using the important columns"
   ]
  },
  {
   "cell_type": "code",
   "execution_count": 39,
   "id": "bc73d9f3",
   "metadata": {},
   "outputs": [
    {
     "name": "stdout",
     "output_type": "stream",
     "text": [
      "0\n"
     ]
    }
   ],
   "source": [
    "temp1=list(x_val.columns)\n",
    "temp2=list(xtrain.columns)\n",
    "temp3 = [item for item in temp1 if item not in temp2]\n",
    "print(len(temp3))"
   ]
  },
  {
   "cell_type": "code",
   "execution_count": 40,
   "id": "bb7f8914",
   "metadata": {},
   "outputs": [],
   "source": [
    "data_cleaned_test = x_val.loc[:, feature_selector.get_support()]\n",
    "\n",
    "#data_cleaned_test['Bwd Packets/s'] = x_val['Bwd Packets/s']\n",
    "#data_cleaned_test['Total Backward Packets'] = x_val['Total Backward Packets']\n",
    "#data_cleaned_test['Fwd Packet Length Min'] = x_val['Fwd Packet Length Min']\n",
    "#data_cleaned_test['Total Length of Bwd Packets'] = x_val['Total Length of Bwd Packets']"
   ]
  },
  {
   "cell_type": "code",
   "execution_count": 41,
   "id": "153a4783",
   "metadata": {},
   "outputs": [
    {
     "data": {
      "text/html": [
       "<div>\n",
       "<style scoped>\n",
       "    .dataframe tbody tr th:only-of-type {\n",
       "        vertical-align: middle;\n",
       "    }\n",
       "\n",
       "    .dataframe tbody tr th {\n",
       "        vertical-align: top;\n",
       "    }\n",
       "\n",
       "    .dataframe thead th {\n",
       "        text-align: right;\n",
       "    }\n",
       "</style>\n",
       "<table border=\"1\" class=\"dataframe\">\n",
       "  <thead>\n",
       "    <tr style=\"text-align: right;\">\n",
       "      <th></th>\n",
       "      <th>Bwd Packet Length Min</th>\n",
       "      <th>Fwd PSH Flags</th>\n",
       "      <th>SYN Flag Count</th>\n",
       "      <th>RST Flag Count</th>\n",
       "      <th>ACK Flag Count</th>\n",
       "      <th>URG Flag Count</th>\n",
       "      <th>CWE Flag Count</th>\n",
       "      <th>Down/Up Ratio</th>\n",
       "      <th>SimillarHTTP</th>\n",
       "      <th>Inbound</th>\n",
       "    </tr>\n",
       "  </thead>\n",
       "  <tbody>\n",
       "    <tr>\n",
       "      <th>0</th>\n",
       "      <td>0.0</td>\n",
       "      <td>0</td>\n",
       "      <td>0</td>\n",
       "      <td>0</td>\n",
       "      <td>0</td>\n",
       "      <td>0</td>\n",
       "      <td>0</td>\n",
       "      <td>0.0</td>\n",
       "      <td>0</td>\n",
       "      <td>1</td>\n",
       "    </tr>\n",
       "    <tr>\n",
       "      <th>1</th>\n",
       "      <td>0.0</td>\n",
       "      <td>0</td>\n",
       "      <td>0</td>\n",
       "      <td>0</td>\n",
       "      <td>0</td>\n",
       "      <td>0</td>\n",
       "      <td>0</td>\n",
       "      <td>0.0</td>\n",
       "      <td>0</td>\n",
       "      <td>1</td>\n",
       "    </tr>\n",
       "    <tr>\n",
       "      <th>2</th>\n",
       "      <td>0.0</td>\n",
       "      <td>0</td>\n",
       "      <td>0</td>\n",
       "      <td>0</td>\n",
       "      <td>0</td>\n",
       "      <td>0</td>\n",
       "      <td>0</td>\n",
       "      <td>0.0</td>\n",
       "      <td>0</td>\n",
       "      <td>1</td>\n",
       "    </tr>\n",
       "    <tr>\n",
       "      <th>3</th>\n",
       "      <td>0.0</td>\n",
       "      <td>0</td>\n",
       "      <td>0</td>\n",
       "      <td>0</td>\n",
       "      <td>0</td>\n",
       "      <td>0</td>\n",
       "      <td>0</td>\n",
       "      <td>0.0</td>\n",
       "      <td>0</td>\n",
       "      <td>1</td>\n",
       "    </tr>\n",
       "    <tr>\n",
       "      <th>4</th>\n",
       "      <td>0.0</td>\n",
       "      <td>0</td>\n",
       "      <td>0</td>\n",
       "      <td>0</td>\n",
       "      <td>0</td>\n",
       "      <td>0</td>\n",
       "      <td>0</td>\n",
       "      <td>0.0</td>\n",
       "      <td>0</td>\n",
       "      <td>1</td>\n",
       "    </tr>\n",
       "  </tbody>\n",
       "</table>\n",
       "</div>"
      ],
      "text/plain": [
       "   Bwd Packet Length Min  Fwd PSH Flags  SYN Flag Count  RST Flag Count  \\\n",
       "0                    0.0              0               0               0   \n",
       "1                    0.0              0               0               0   \n",
       "2                    0.0              0               0               0   \n",
       "3                    0.0              0               0               0   \n",
       "4                    0.0              0               0               0   \n",
       "\n",
       "   ACK Flag Count  URG Flag Count  CWE Flag Count  Down/Up Ratio  \\\n",
       "0               0               0               0            0.0   \n",
       "1               0               0               0            0.0   \n",
       "2               0               0               0            0.0   \n",
       "3               0               0               0            0.0   \n",
       "4               0               0               0            0.0   \n",
       "\n",
       "   SimillarHTTP  Inbound  \n",
       "0             0        1  \n",
       "1             0        1  \n",
       "2             0        1  \n",
       "3             0        1  \n",
       "4             0        1  "
      ]
     },
     "execution_count": 41,
     "metadata": {},
     "output_type": "execute_result"
    }
   ],
   "source": [
    "data_cleaned_test.head(5)"
   ]
  },
  {
   "cell_type": "markdown",
   "id": "98585075",
   "metadata": {},
   "source": [
    "### fitting the model"
   ]
  },
  {
   "cell_type": "code",
   "execution_count": 42,
   "id": "884b5b11",
   "metadata": {},
   "outputs": [
    {
     "data": {
      "text/plain": [
       "<catboost.core.CatBoostClassifier at 0x1f6795ad040>"
      ]
     },
     "execution_count": 42,
     "metadata": {},
     "output_type": "execute_result"
    }
   ],
   "source": [
    "model = CatBoostClassifier(iterations = 1000, learning_rate = 0.05, eval_metric = 'F1', verbose = False, random_state = 42)\n",
    "model.fit(X_new, ytrain, verbose=False,  plot=False)"
   ]
  },
  {
   "cell_type": "code",
   "execution_count": 43,
   "id": "023b5f36",
   "metadata": {},
   "outputs": [],
   "source": [
    "from sklearn.metrics import accuracy_score, plot_confusion_matrix, f1_score\n",
    "ypred = model.predict(data_cleaned_test)"
   ]
  },
  {
   "cell_type": "code",
   "execution_count": 44,
   "id": "7311a18e",
   "metadata": {},
   "outputs": [
    {
     "name": "stdout",
     "output_type": "stream",
     "text": [
      "0.9989917802080853\n",
      "0.9994929434631962\n"
     ]
    },
    {
     "data": {
      "text/plain": [
       "<sklearn.metrics._plot.confusion_matrix.ConfusionMatrixDisplay at 0x1f677f18190>"
      ]
     },
     "execution_count": 44,
     "metadata": {},
     "output_type": "execute_result"
    },
    {
     "data": {
      "image/png": "[encoded data removed]",
      "text/plain": [
       "<Figure size 576x396 with 2 Axes>"
      ]
     },
     "metadata": {},
     "output_type": "display_data"
    }
   ],
   "source": [
    "\n",
    "print(accuracy_score(y_val, ypred))\n",
    "print(f1_score(y_val, ypred))\n",
    "plot_confusion_matrix(model, data_cleaned_test, y_val)"
   ]
  },
  {
   "cell_type": "code",
   "execution_count": 45,
   "id": "a15b7999",
   "metadata": {},
   "outputs": [
    {
     "name": "stdout",
     "output_type": "stream",
     "text": [
      "-0.00025229999982911977\n"
     ]
    }
   ],
   "source": [
    "import timeit\n",
    "strt = timeit.timeit()\n",
    "model.predict(data_cleaned_test[::1])\n",
    "end = timeit.timeit()\n",
    "print(end-strt)"
   ]
  },
  {
   "cell_type": "code",
   "execution_count": 2,
   "id": "21a6983d",
   "metadata": {},
   "outputs": [
    {
     "name": "stdout",
     "output_type": "stream",
     "text": [
      "Requirement already satisfied: yellowbrick in c:\\users\\jo\\anaconda3\\lib\\site-packages (1.4)\n",
      "Requirement already satisfied: numpy>=1.16.0 in c:\\users\\jo\\anaconda3\\lib\\site-packages (from yellowbrick) (1.20.3)\n",
      "Requirement already satisfied: scikit-learn>=1.0.0 in c:\\users\\jo\\anaconda3\\lib\\site-packages (from yellowbrick) (1.0.2)\n",
      "Requirement already satisfied: cycler>=0.10.0 in c:\\users\\jo\\anaconda3\\lib\\site-packages (from yellowbrick) (0.10.0)\n",
      "Requirement already satisfied: scipy>=1.0.0 in c:\\users\\jo\\anaconda3\\lib\\site-packages (from yellowbrick) (1.7.1)\n",
      "Requirement already satisfied: matplotlib!=3.0.0,>=2.0.2 in c:\\users\\jo\\anaconda3\\lib\\site-packages (from yellowbrick) (3.4.3)\n",
      "Requirement already satisfied: six in c:\\users\\jo\\anaconda3\\lib\\site-packages (from cycler>=0.10.0->yellowbrick) (1.16.0)\n",
      "Requirement already satisfied: pyparsing>=2.2.1 in c:\\users\\jo\\anaconda3\\lib\\site-packages (from matplotlib!=3.0.0,>=2.0.2->yellowbrick) (3.0.4)\n",
      "Requirement already satisfied: pillow>=6.2.0 in c:\\users\\jo\\anaconda3\\lib\\site-packages (from matplotlib!=3.0.0,>=2.0.2->yellowbrick) (8.4.0)\n",
      "Requirement already satisfied: python-dateutil>=2.7 in c:\\users\\jo\\anaconda3\\lib\\site-packages (from matplotlib!=3.0.0,>=2.0.2->yellowbrick) (2.8.2)\n",
      "Requirement already satisfied: kiwisolver>=1.0.1 in c:\\users\\jo\\anaconda3\\lib\\site-packages (from matplotlib!=3.0.0,>=2.0.2->yellowbrick) (1.3.1)\n",
      "Requirement already satisfied: joblib>=0.11 in c:\\users\\jo\\anaconda3\\lib\\site-packages (from scikit-learn>=1.0.0->yellowbrick) (1.1.0)\n",
      "Requirement already satisfied: threadpoolctl>=2.0.0 in c:\\users\\jo\\anaconda3\\lib\\site-packages (from scikit-learn>=1.0.0->yellowbrick) (2.2.0)\n",
      "Note: you may need to restart the kernel to use updated packages.\n"
     ]
    }
   ],
   "source": [
    "%pip install yellowbrick"
   ]
  },
  {
   "cell_type": "code",
   "execution_count": 46,
   "id": "fea4f82b",
   "metadata": {},
   "outputs": [],
   "source": [
    "from sklearn.ensemble import RandomForestClassifier\n",
    "from sklearn.model_selection import StratifiedKFold\n",
    "\n",
    "from yellowbrick.model_selection import rfecv\n",
    "\n"
   ]
  },
  {
   "cell_type": "code",
   "execution_count": 48,
   "id": "bf5ead38",
   "metadata": {},
   "outputs": [],
   "source": [
    "\n",
    "# Load classification dataset\n",
    "X, y = xtrain, ytrain\n",
    "\n",
    "cv = StratifiedKFold(5)\n",
    "visualizer = rfecv(RandomForestClassifier(), X=X, y=y, cv=cv, scoring='f1_weighted')"
   ]
  },
  {
   "cell_type": "code",
   "execution_count": null,
   "id": "675476b0",
   "metadata": {},
   "outputs": [],
   "source": [
    "import matplotlib.pyplot as plt\n",
    "from sklearn.svm import SVC\n",
    "from sklearn.model_selection import StratifiedKFold\n",
    "from sklearn.feature_selection import RFECV\n",
    "from sklearn.datasets import make_classification"
   ]
  },
  {
   "cell_type": "code",
   "execution_count": null,
   "id": "aa2ea65e",
   "metadata": {},
   "outputs": [],
   "source": [
    "# # Create the RFE object and compute a cross-validated score.\n",
    "# svc = SVC(kernel=\"linear\")\n",
    "# # The \"accuracy\" scoring shows the proportion of correct classifications\n",
    "\n",
    "# min_features_to_select = 1  # Minimum number of features to consider\n",
    "# rfecv = RFECV(\n",
    "#     estimator=svc,\n",
    "#     step=1,\n",
    "#     cv=StratifiedKFold(2),\n",
    "#     scoring=\"accuracy\",\n",
    "#     min_features_to_select=min_features_to_select,\n",
    "# )"
   ]
  },
  {
   "cell_type": "code",
   "execution_count": null,
   "id": "7b97d9d5",
   "metadata": {},
   "outputs": [],
   "source": [
    "#rfecv.fit(xtrain,ytrain)\n",
    "\n",
    "#print(\"Optimal number of features : %d\" % rfecv.n_features_)\n"
   ]
  },
  {
   "cell_type": "code",
   "execution_count": null,
   "id": "c622d18a",
   "metadata": {},
   "outputs": [],
   "source": [
    "# # Plot number of features VS. cross-validation scores\n",
    "# plt.figure()\n",
    "# plt.xlabel(\"Number of features selected\")\n",
    "# plt.ylabel(\"Cross validation score (accuracy)\")\n",
    "# plt.plot(\n",
    "#     range(min_features_to_select, len(rfecv.grid_scores_) + min_features_to_select),\n",
    "#     rfecv.grid_scores_,\n",
    "# )\n",
    "# plt.show()"
   ]
  },
  {
   "cell_type": "code",
   "execution_count": null,
   "id": "2d596e25",
   "metadata": {},
   "outputs": [],
   "source": []
  },
  {
   "cell_type": "code",
   "execution_count": null,
   "id": "e04ef699",
   "metadata": {},
   "outputs": [],
   "source": []
  },
  {
   "cell_type": "code",
   "execution_count": null,
   "id": "6ef65ac9",
   "metadata": {},
   "outputs": [],
   "source": []
  },
  {
   "cell_type": "code",
   "execution_count": null,
   "id": "5bda0534",
   "metadata": {},
   "outputs": [],
   "source": []
  },
  {
   "cell_type": "code",
   "execution_count": null,
   "id": "7a49eb3b",
   "metadata": {},
   "outputs": [],
   "source": []
  },
  {
   "cell_type": "code",
   "execution_count": null,
   "id": "1e96e8d8",
   "metadata": {},
   "outputs": [],
   "source": []
  },
  {
   "cell_type": "code",
   "execution_count": null,
   "id": "bc7b8344",
   "metadata": {},
   "outputs": [],
   "source": []
  },
  {
   "cell_type": "code",
   "execution_count": null,
   "id": "89084644",
   "metadata": {},
   "outputs": [],
   "source": []
  }
 ],
 "metadata": {
  "kernelspec": {
   "display_name": "Python 3 (ipykernel)",
   "language": "python",
   "name": "python3"
  },
  "language_info": {
   "codemirror_mode": {
    "name": "ipython",
    "version": 3
   },
   "file_extension": ".py",
   "mimetype": "text/x-python",
   "name": "python",
   "nbconvert_exporter": "python",
   "pygments_lexer": "ipython3",
   "version": "3.9.7"
  }
 },
 "nbformat": 4,
 "nbformat_minor": 5
}
