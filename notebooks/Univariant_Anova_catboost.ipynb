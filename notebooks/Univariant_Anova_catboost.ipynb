{
 "cells": [
  {
   "cell_type": "code",
   "execution_count": 1,
   "metadata": {},
   "outputs": [],
   "source": [
    "import matplotlib.pyplot as plt\n",
    "from sklearn import metrics\n",
    "from catboost import CatBoostClassifier\n",
    "import numpy as np\n",
    "import pandas as pd"
   ]
  },
  {
   "cell_type": "code",
   "execution_count": 2,
   "metadata": {},
   "outputs": [
    {
     "name": "stderr",
     "output_type": "stream",
     "text": [
      "C:\\Users\\Lobna Lolo\\AppData\\Local\\Programs\\Python\\Python37\\lib\\site-packages\\IPython\\core\\interactiveshell.py:3170: DtypeWarning: Columns (83) have mixed types.Specify dtype option on import or set low_memory=False.\n",
      "  interactivity=interactivity, compiler=compiler, result=result)\n"
     ]
    }
   ],
   "source": [
    "cols = ['Flow ID', 'Source IP', 'Source Port', 'Destination IP', 'Destination Port', 'Protocol', 'Timestamp',\n",
    "        'Flow Duration', 'Total Fwd Packets', 'Total Backward Packets', 'Total Length of Fwd Packets',\n",
    "        'Total Length of Bwd Packets',\n",
    "        'Fwd Packet Length Max', 'Fwd Packet Length Min', 'Fwd Packet Length Mean''Fwd Packet Length Std',\n",
    "        'Bwd Packet Length Max',\n",
    "        'Bwd Packet Length Min', 'Bwd Packet Length Mean', 'Bwd Packet Length Std', 'Flow Bytes/s', 'Flow Packets/s',\n",
    "        'Flow IAT Mean',\n",
    "        'Flow IAT Std', 'Flow IAT Max', 'Flow IAT Min', 'Fwd IAT Total', 'Fwd IAT Mean', 'Fwd IAT Std', 'Fwd IAT Max',\n",
    "        'Fwd IAT Min',\n",
    "        'Bwd IAT Total', 'Bwd IAT Mean', 'Bwd IAT Std', 'Bwd IAT Max', 'Bwd IAT Min', 'Fwd PSH Flags', 'Bwd PSH Flags',\n",
    "        'Fwd URG Flags',\n",
    "        'Bwd URG Flags', 'Fwd Header Length', 'Bwd Header Length', 'Fwd Packets/s', 'Bwd Packets/s',\n",
    "        'Min Packet Length', 'Max Packet Length',\n",
    "        'Packet Length Mean', 'Packet Length Std', 'Packet Length Variance', 'FIN Flag Count', 'SYN Flag Count',\n",
    "        'RST Flag Count',\n",
    "        'PSH Flag Count', 'ACK Flag Count', 'URG Flag Count', 'CWE Flag Count', 'ECE Flag Count', 'Down/Up Ratio',\n",
    "        'Average Packet Size',\n",
    "        'Avg Fwd Segment Size', 'Avg Bwd Segment Size', 'Fwd Header Length.1', 'Fwd Avg Bytes/Bulk',\n",
    "        'Fwd Avg Packets/Bulk', 'Fwd Avg Bulk Rate',\n",
    "        'Bwd Avg Bytes/Bulk', 'Bwd Avg Packets/Bulk', 'Bwd Avg Bulk Rate', 'Subflow Fwd Packets', 'Subflow Fwd Bytes',\n",
    "        'Subflow Bwd Packets',\n",
    "        'Subflow Bwd Bytes', 'Init_Win_bytes_forward', 'Init_Win_bytes_backward', 'act_data_pkt_fwd',\n",
    "        'min_seg_size_forward',\n",
    "        'Active Mean', 'Active Std', 'Active Max', 'Active Min', 'Idle Mean', 'Idle Std', 'Idle Max', 'Idle Min',\n",
    "        'SimillarHTTP',\n",
    "        'Inbound', 'Label']\n",
    "\n",
    "dataset = pd.read_csv('F:\\\\Outtawa\\\\AI CS\\\\interim\\\\training.csv', names=cols, skiprows=1)\n",
    "# print(dataset)\n",
    "dataset_val = pd.read_csv('F:\\\\Outtawa\\\\AI CS\\\\interim\\\\validation.csv', names=cols, skiprows=1)"
   ]
  },
  {
   "cell_type": "code",
   "execution_count": 3,
   "metadata": {},
   "outputs": [],
   "source": [
    "\n",
    "\n",
    "dataset.drop(['Flow ID', 'Source IP', 'Source Port', 'Destination IP', 'Destination Port', 'Protocol', 'Timestamp'],\n",
    "             axis=1, inplace=True)\n",
    "dataset_val.drop(['Flow ID', 'Source IP', 'Source Port', 'Destination IP',\n",
    "                  'Destination Port', 'Protocol', 'Timestamp'],\n",
    "                 axis=1, inplace=True)\n",
    "\n",
    "dataset.drop(['Bwd PSH Flags', 'Fwd URG Flags', 'Bwd URG Flags', 'FIN Flag Count',\n",
    "              'PSH Flag Count', 'ECE Flag Count',\n",
    "              'Fwd Avg Bytes/Bulk', 'Fwd Avg Packets/Bulk', 'Fwd Avg Bulk Rate', 'Bwd Avg Bytes/Bulk',\n",
    "              'Bwd Avg Packets/Bulk', 'Bwd Avg Bulk Rate'], axis=1, inplace=True)\n",
    "dataset_val.drop(\n",
    "    ['Bwd PSH Flags', 'Fwd URG Flags', 'Bwd URG Flags', 'FIN Flag Count', 'PSH Flag Count', 'ECE Flag Count',\n",
    "     'Fwd Avg Bytes/Bulk', 'Fwd Avg Packets/Bulk', 'Fwd Avg Bulk Rate', 'Bwd Avg Bytes/Bulk',\n",
    "     'Bwd Avg Packets/Bulk', 'Bwd Avg Bulk Rate'], axis=1, inplace=True)\n",
    "\n",
    "from sklearn.preprocessing import LabelEncoder\n",
    "\n",
    "dataset['Label'] = dataset['Label'].replace({'DrDoS_DNS': 1})\n",
    "dataset['Label'] = dataset['Label'].replace({'BENIGN': 0})\n",
    "dataset_val['Label'] = dataset_val['Label'].replace({'DrDoS_DNS': 1})\n",
    "dataset_val['Label'] = dataset_val['Label'].replace({'BENIGN': 0})\n",
    "\n",
    "lbl_encoder = LabelEncoder()\n",
    "dataset['SimillarHTTP'] = dataset['SimillarHTTP'].apply(lambda x: pd.to_numeric(x, errors='coerce'))\n",
    "dataset_val['SimillarHTTP'] = dataset['SimillarHTTP'].apply(lambda x: pd.to_numeric(x, errors='coerce'))\n",
    "dataset['SimillarHTTP'] = lbl_encoder.fit_transform(dataset['SimillarHTTP'])\n",
    "dataset_val['SimillarHTTP'] = lbl_encoder.transform(dataset_val['SimillarHTTP'])\n",
    "\n",
    "dataset.drop(['Flow Bytes/s'], axis=1, inplace=True)\n",
    "dataset.replace([np.inf, -np.inf], np.nan, inplace=True)\n",
    "dataset.dropna(inplace=True)\n",
    "\n",
    "xtrain, ytrain = dataset.iloc[:, :-1], dataset['Label']\n",
    "dataset_val.drop(['Flow Bytes/s'], axis=1, inplace=True)\n",
    "x_val, y_val = dataset_val.iloc[:, :-1], dataset_val['Label']\n"
   ]
  },
  {
   "cell_type": "code",
   "execution_count": 4,
   "metadata": {},
   "outputs": [],
   "source": [
    "data_cleaned_train = pd.DataFrame()\n",
    "data_cleaned_train['Avg Bwd Segment Size'] = xtrain['Avg Bwd Segment Size']\n",
    "data_cleaned_train['Bwd Packet Length Max'] = xtrain['Bwd Packet Length Max']\n",
    "data_cleaned_train['Bwd Packet Length Mean'] = xtrain['Bwd Packet Length Mean']\n",
    "data_cleaned_train['Bwd Packet Length Min'] = xtrain['Bwd Packet Length Min']\n",
    "data_cleaned_train['URG Flag Count'] = xtrain['URG Flag Count']\n",
    "data_cleaned_train['Down/Up Ratio'] = xtrain['Down/Up Ratio']\n",
    "data_cleaned_train['Inbound'] = xtrain['Inbound']\n",
    "data_cleaned_train['Fwd PSH Flags'] = xtrain['Fwd PSH Flags']\n",
    "data_cleaned_train['RST Flag Count'] = xtrain['RST Flag Count']\n",
    "# data_cleaned_train['Flow IAT Total'] = xtrain['Flow IAT Total']\n",
    "\n",
    "data_cleaned_test = pd.DataFrame()\n",
    "data_cleaned_test['Avg Bwd Segment Size'] = x_val['Avg Bwd Segment Size']\n",
    "data_cleaned_test['Bwd Packet Length Max'] = x_val['Bwd Packet Length Max']\n",
    "data_cleaned_test['Bwd Packet Length Mean'] = x_val['Bwd Packet Length Mean']\n",
    "data_cleaned_test['Bwd Packet Length Min'] = x_val['Bwd Packet Length Min']\n",
    "data_cleaned_test['URG Flag Count'] = x_val['URG Flag Count']\n",
    "data_cleaned_test['Down/Up Ratio'] = x_val['Down/Up Ratio']\n",
    "data_cleaned_test['Inbound'] = x_val['Inbound']\n",
    "data_cleaned_test['Fwd PSH Flags'] = x_val['Fwd PSH Flags']\n",
    "data_cleaned_test['RST Flag Count'] = x_val['RST Flag Count']"
   ]
  },
  {
   "cell_type": "code",
   "execution_count": 5,
   "metadata": {},
   "outputs": [
    {
     "name": "stdout",
     "output_type": "stream",
     "text": [
      "start training\n",
      "start testing on validation data\n"
     ]
    }
   ],
   "source": [
    "\n",
    "print('start training')\n",
    "\n",
    "model = CatBoostClassifier(iterations = 500, learning_rate = 0.05, eval_metric = 'F1', verbose = False, random_state = 42)\n",
    "model.fit(data_cleaned_train, ytrain, verbose=False,  plot=False)\n",
    "\n",
    "\n",
    "print('start testing on validation data')"
   ]
  },
  {
   "cell_type": "code",
   "execution_count": 8,
   "metadata": {},
   "outputs": [
    {
     "name": "stdout",
     "output_type": "stream",
     "text": [
      "0.9998897019504458\n",
      "0.9999448234181789\n",
      "Accuracy: 0.9998897019504458\n"
     ]
    },
    {
     "name": "stderr",
     "output_type": "stream",
     "text": [
      "C:\\Users\\Lobna Lolo\\AppData\\Local\\Programs\\Python\\Python37\\lib\\site-packages\\sklearn\\utils\\deprecation.py:87: FutureWarning: Function plot_confusion_matrix is deprecated; Function `plot_confusion_matrix` is deprecated in 1.0 and will be removed in 1.2. Use one of the class methods: ConfusionMatrixDisplay.from_predictions or ConfusionMatrixDisplay.from_estimator.\n",
      "  warnings.warn(msg, category=FutureWarning)\n"
     ]
    },
    {
     "data": {
      "image/png": "[encoded data removed]",
      "text/plain": [
       "<Figure size 432x288 with 2 Axes>"
      ]
     },
     "metadata": {
      "needs_background": "light"
     },
     "output_type": "display_data"
    }
   ],
   "source": [
    "from sklearn.metrics import accuracy_score, plot_confusion_matrix, f1_score\n",
    "y_pred_train = model.predict(data_cleaned_train)\n",
    "print(accuracy_score(ytrain, y_pred_train))\n",
    "print(f1_score(ytrain, y_pred_train))\n",
    "print(\"Accuracy:\",metrics.accuracy_score(ytrain, y_pred_train))\n",
    "\n",
    "plot_confusion_matrix(model, data_cleaned_train, ytrain)\n",
    "plt.show()"
   ]
  },
  {
   "cell_type": "code",
   "execution_count": 6,
   "metadata": {},
   "outputs": [
    {
     "name": "stdout",
     "output_type": "stream",
     "text": [
      "0.998893758839427\n",
      "0.9994436815605083\n",
      "Accuracy: 0.998893758839427\n"
     ]
    },
    {
     "name": "stderr",
     "output_type": "stream",
     "text": [
      "C:\\Users\\Lobna Lolo\\AppData\\Local\\Programs\\Python\\Python37\\lib\\site-packages\\sklearn\\utils\\deprecation.py:87: FutureWarning: Function plot_confusion_matrix is deprecated; Function `plot_confusion_matrix` is deprecated in 1.0 and will be removed in 1.2. Use one of the class methods: ConfusionMatrixDisplay.from_predictions or ConfusionMatrixDisplay.from_estimator.\n",
      "  warnings.warn(msg, category=FutureWarning)\n"
     ]
    },
    {
     "data": {
      "image/png": "[encoded data removed]",
      "text/plain": [
       "<Figure size 432x288 with 2 Axes>"
      ]
     },
     "metadata": {
      "needs_background": "light"
     },
     "output_type": "display_data"
    }
   ],
   "source": [
    "from sklearn.metrics import accuracy_score, plot_confusion_matrix, f1_score\n",
    "y_pred = model.predict(data_cleaned_test)\n",
    "print(accuracy_score(y_val, y_pred))\n",
    "print(f1_score(y_val, y_pred))\n",
    "print(\"Accuracy:\",metrics.accuracy_score(y_val, y_pred))\n",
    "\n",
    "plot_confusion_matrix(model, data_cleaned_test, y_val)\n",
    "plt.show()"
   ]
  },
  {
   "cell_type": "code",
   "execution_count": 9,
   "metadata": {},
   "outputs": [
    {
     "data": {
      "image/png": "[encoded data removed]",
      "text/plain": [
       "<Figure size 576x576 with 1 Axes>"
      ]
     },
     "metadata": {
      "needs_background": "light"
     },
     "output_type": "display_data"
    }
   ],
   "source": [
    "# false positive rate, true positive rate, thresholds\n",
    "fpr1, tpr1, thresholds1 = metrics.roc_curve(y_val, y_pred)\n",
    "fpr2, tpr2, thresholds2 = metrics.roc_curve(ytrain, y_pred_train)\n",
    " # auc score\n",
    "auc1 = metrics.auc(fpr1, tpr1)\n",
    "auc2 = metrics.auc(fpr2, tpr2)\n",
    "plt.figure(figsize=(8,8))\n",
    "# plot auc \n",
    "plt.plot(fpr1, tpr1, color='blue', label='Test ROC curve area = %0.2f'%auc1)\n",
    "plt.plot(fpr2, tpr2, color='green', label='Train ROC curve area = %0.2f'%auc2)\n",
    "plt.plot([0,1],[0,1], 'r--')\n",
    "plt.xlim([-0.1, 1.1])\n",
    "plt.ylim([-0.1, 1.1])\n",
    "plt.xlabel('False Positive Rate', size=14)\n",
    "plt.ylabel('True Positive Rate', size=14)\n",
    "plt.legend(loc='lower right')\n",
    "\n",
    "plt.show()"
   ]
  },
  {
   "cell_type": "code",
   "execution_count": 7,
   "metadata": {},
   "outputs": [
    {
     "name": "stdout",
     "output_type": "stream",
     "text": [
      "0.001780800000005911\n"
     ]
    }
   ],
   "source": [
    "import timeit\n",
    "strt = timeit.timeit()\n",
    "model.predict(data_cleaned_test[::1])\n",
    "end = timeit.timeit()\n",
    "print(strt-end)"
   ]
  }
 ],
 "metadata": {
  "interpreter": {
   "hash": "a66fe325ee2dc5b6b5e2e5cb931bfdd2e905fc1ccf763575545c6f312bcbb55b"
  },
  "kernelspec": {
   "display_name": "Python 3.7.7 64-bit",
   "language": "python",
   "name": "python3"
  },
  "language_info": {
   "codemirror_mode": {
    "name": "ipython",
    "version": 3
   },
   "file_extension": ".py",
   "mimetype": "text/x-python",
   "name": "python",
   "nbconvert_exporter": "python",
   "pygments_lexer": "ipython3",
   "version": "3.7.7"
  },
  "orig_nbformat": 4
 },
 "nbformat": 4,
 "nbformat_minor": 2
}
