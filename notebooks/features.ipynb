{
 "cells": [
  {
   "cell_type": "code",
   "execution_count": 1,
   "metadata": {},
   "outputs": [],
   "source": [
    "from sklearn.ensemble import ExtraTreesClassifier\n",
    "from sklearn.model_selection import train_test_split\n",
    "from sklearn.feature_selection import SelectKBest, f_classif\n",
    "from sklearn.feature_selection import chi2\n",
    "import matplotlib.pyplot as plt\n",
    "import numpy as np\n",
    "import pandas as pd\n",
    "import seaborn as sns"
   ]
  },
  {
   "cell_type": "code",
   "execution_count": 2,
   "metadata": {},
   "outputs": [
    {
     "name": "stderr",
     "output_type": "stream",
     "text": [
      "C:\\Users\\Lobna Lolo\\AppData\\Local\\Programs\\Python\\Python37\\lib\\site-packages\\IPython\\core\\interactiveshell.py:3170: DtypeWarning: Columns (84) have mixed types.Specify dtype option on import or set low_memory=False.\n",
      "  interactivity=interactivity, compiler=compiler, result=result)\n"
     ]
    }
   ],
   "source": [
    "cols = ['Flow ID', 'Source IP', 'Source Port', 'Destination IP', 'Destination Port', 'Protocol', 'Timestamp',\n",
    "        'Flow Duration', 'Total Fwd Packets', 'Total Backward Packets', 'Total Length of Fwd Packets',\n",
    "        'Total Length of Bwd Packets',\n",
    "        'Fwd Packet Length Max', 'Fwd Packet Length Min', 'Fwd Packet Length Mean''Fwd Packet Length Std',\n",
    "        'Bwd Packet Length Max',\n",
    "        'Bwd Packet Length Min', 'Bwd Packet Length Mean', 'Bwd Packet Length Std', 'Flow Bytes/s', 'Flow Packets/s',\n",
    "        'Flow IAT Mean',\n",
    "        'Flow IAT Std', 'Flow IAT Max', 'Flow IAT Min', 'Fwd IAT Total', 'Fwd IAT Mean', 'Fwd IAT Std', 'Fwd IAT Max',\n",
    "        'Fwd IAT Min',\n",
    "        'Bwd IAT Total', 'Bwd IAT Mean', 'Bwd IAT Std', 'Bwd IAT Max', 'Bwd IAT Min', 'Fwd PSH Flags', 'Bwd PSH Flags',\n",
    "        'Fwd URG Flags',\n",
    "        'Bwd URG Flags', 'Fwd Header Length', 'Bwd Header Length', 'Fwd Packets/s', 'Bwd Packets/s',\n",
    "        'Min Packet Length', 'Max Packet Length',\n",
    "        'Packet Length Mean', 'Packet Length Std', 'Packet Length Variance', 'FIN Flag Count', 'SYN Flag Count',\n",
    "        'RST Flag Count',\n",
    "        'PSH Flag Count', 'ACK Flag Count', 'URG Flag Count', 'CWE Flag Count', 'ECE Flag Count', 'Down/Up Ratio',\n",
    "        'Average Packet Size',\n",
    "        'Avg Fwd Segment Size', 'Avg Bwd Segment Size', 'Fwd Header Length.1', 'Fwd Avg Bytes/Bulk',\n",
    "        'Fwd Avg Packets/Bulk', 'Fwd Avg Bulk Rate',\n",
    "        'Bwd Avg Bytes/Bulk', 'Bwd Avg Packets/Bulk', 'Bwd Avg Bulk Rate', 'Subflow Fwd Packets', 'Subflow Fwd Bytes',\n",
    "        'Subflow Bwd Packets',\n",
    "        'Subflow Bwd Bytes', 'Init_Win_bytes_forward', 'Init_Win_bytes_backward', 'act_data_pkt_fwd',\n",
    "        'min_seg_size_forward',\n",
    "        'Active Mean', 'Active Std', 'Active Max', 'Active Min', 'Idle Mean', 'Idle Std', 'Idle Max', 'Idle Min',\n",
    "        'SimillarHTTP',\n",
    "        'Inbound', 'Label']\n",
    "\n",
    "dataset = pd.read_csv('F:\\\\Outtawa\\\\AI CS\\\\interim (1)\\\\training.csv', names=cols, skiprows=1)\n",
    "# print(dataset)\n",
    "dataset_val = pd.read_csv('F:\\\\Outtawa\\\\AI CS\\\\interim (1)\\\\validation.csv', names=cols, skiprows=1)"
   ]
  },
  {
   "cell_type": "code",
   "execution_count": 3,
   "metadata": {},
   "outputs": [],
   "source": [
    "\n",
    "dataset.drop(['Flow ID', 'Source IP', 'Source Port', 'Destination IP', 'Destination Port', 'Protocol', 'Timestamp'],\n",
    "             axis=1, inplace=True)\n",
    "dataset_val.drop(['Flow ID', 'Source IP', 'Source Port', 'Destination IP', 'Destination Port', 'Protocol', 'Timestamp'],\n",
    "                 axis=1, inplace=True)\n",
    "\n",
    "dataset.drop(['Bwd PSH Flags', 'Fwd URG Flags', 'Bwd URG Flags', 'FIN Flag Count', 'PSH Flag Count', 'ECE Flag Count',\n",
    "              'Fwd Avg Bytes/Bulk', 'Fwd Avg Packets/Bulk', 'Fwd Avg Bulk Rate', 'Bwd Avg Bytes/Bulk',\n",
    "              'Bwd Avg Packets/Bulk', 'Bwd Avg Bulk Rate'], axis=1, inplace=True)\n",
    "dataset_val.drop(\n",
    "    ['Bwd PSH Flags', 'Fwd URG Flags', 'Bwd URG Flags', 'FIN Flag Count', 'PSH Flag Count', 'ECE Flag Count',\n",
    "     'Fwd Avg Bytes/Bulk', 'Fwd Avg Packets/Bulk', 'Fwd Avg Bulk Rate', 'Bwd Avg Bytes/Bulk',\n",
    "     'Bwd Avg Packets/Bulk', 'Bwd Avg Bulk Rate'], axis=1, inplace=True)\n",
    "\n",
    "from sklearn.preprocessing import LabelEncoder\n",
    "\n",
    "dataset['Label'] = dataset['Label'].replace({'DrDoS_DNS': 1})\n",
    "dataset['Label'] = dataset['Label'].replace({'BENIGN': 0})\n",
    "dataset_val['Label'] = dataset_val['Label'].replace({'DrDoS_DNS': 1})\n",
    "dataset_val['Label'] = dataset_val['Label'].replace({'BENIGN': 0})\n",
    "\n",
    "lbl_encoder = LabelEncoder()\n",
    "dataset['SimillarHTTP'] = dataset['SimillarHTTP'].apply(lambda x: pd.to_numeric(x, errors='coerce'))\n",
    "dataset_val['SimillarHTTP'] = dataset['SimillarHTTP'].apply(lambda x: pd.to_numeric(x, errors='coerce'))\n",
    "dataset['SimillarHTTP'] = lbl_encoder.fit_transform(dataset['SimillarHTTP'])\n",
    "dataset_val['SimillarHTTP'] = lbl_encoder.transform(dataset_val['SimillarHTTP'])\n",
    "\n",
    "# corr_df = pd.DataFrame()\n",
    "# corr_df['Label'] = dataset['Label']\n",
    "# corr_df['Flow Bytes/s'] = dataset['Flow Bytes/s']\n",
    "#\n",
    "# plt.figure(figsize=(2,2))\n",
    "# sns.heatmap(corr_df.corr(), annot = True, cmap = 'coolwarm')\n",
    "# plt.show()\n",
    "\n",
    "#####################################################################################"
   ]
  },
  {
   "cell_type": "code",
   "execution_count": 4,
   "metadata": {},
   "outputs": [],
   "source": [
    "dataset.drop(['Flow Bytes/s'], axis=1, inplace=True)\n",
    "dataset.replace([np.inf, -np.inf], np.nan, inplace=True)\n",
    "dataset.dropna(inplace=True)\n",
    "\n",
    "xtrain, ytrain = dataset.iloc[:, :-1], dataset['Label']\n",
    "dataset_val.drop(['Flow Bytes/s'], axis=1, inplace=True)\n",
    "x_val, y_val = dataset_val.iloc[:, :-1], dataset_val['Label']"
   ]
  },
  {
   "cell_type": "code",
   "execution_count": 12,
   "metadata": {},
   "outputs": [
    {
     "name": "stdout",
     "output_type": "stream",
     "text": [
      "                     Specs          Score\n",
      "64                 Inbound  947922.861601\n",
      "42           Down/Up Ratio  507334.021161\n",
      "9    Bwd Packet Length Min  429472.963171\n",
      "40          URG Flag Count  414809.342235\n",
      "10  Bwd Packet Length Mean  161917.559051\n",
      "45    Avg Bwd Segment Size  161917.559051\n",
      "27           Fwd PSH Flags  132843.971792\n",
      "38          RST Flag Count  132843.971792\n",
      "8    Bwd Packet Length Max  117997.847312\n",
      "35       Packet Length Std  112582.425824\n"
     ]
    },
    {
     "data": {
      "image/png": "[encoded data removed]",
      "text/plain": [
       "<Figure size 432x288 with 1 Axes>"
      ]
     },
     "metadata": {
      "needs_background": "light"
     },
     "output_type": "display_data"
    }
   ],
   "source": [
    "# apply SelectKBest class to extract top 10 best features\n",
    "bestfeatures = SelectKBest(score_func=f_classif, k=10)\n",
    "fit = bestfeatures.fit(xtrain, ytrain)\n",
    "dfscores = pd.DataFrame(fit.scores_)\n",
    "dfcolumns = pd.DataFrame(xtrain.columns)\n",
    "# concat two dataframes for better visualization\n",
    "featureScores = pd.concat([dfcolumns, dfscores], axis=1)\n",
    "featureScores.columns = ['Specs', 'Score']  # naming the dataframe columns\n",
    "print(featureScores.nlargest(10, 'Score'))\n",
    "featureScores = pd.Series(fit.scores_, index=xtrain.columns)\n",
    "\n",
    "featureScores.nlargest(10).plot(kind='barh')\n",
    "plt.show()"
   ]
  },
  {
   "cell_type": "code",
   "execution_count": 13,
   "metadata": {},
   "outputs": [
    {
     "name": "stdout",
     "output_type": "stream",
     "text": [
      "[3.47430404e-03 6.85621447e-03 1.91987463e-03 6.83969229e-03\n",
      " 1.05823578e-02 3.22485530e-02 1.48993772e-02 2.71228751e-03\n",
      " 1.71206935e-02 4.28580022e-02 2.34136318e-02 2.54297595e-03\n",
      " 1.15803826e-02 4.98451338e-03 5.43559730e-03 4.67988822e-03\n",
      " 1.58673634e-03 9.59656511e-03 2.77067591e-03 5.49678267e-03\n",
      " 4.65747741e-03 1.05366149e-03 3.00627497e-03 2.56100960e-03\n",
      " 4.68037865e-03 6.10394511e-03 3.63864058e-03 2.35569258e-02\n",
      " 1.36400286e-02 7.85014632e-03 1.14416450e-02 9.54161562e-03\n",
      " 2.15924875e-02 9.53632905e-03 9.71132069e-03 7.15870324e-03\n",
      " 1.78848847e-03 2.58146917e-03 1.55861635e-02 1.25548300e-02\n",
      " 1.13384168e-01 3.26304978e-02 6.74166482e-02 1.27847885e-02\n",
      " 1.37021268e-02 2.16232941e-02 1.44547564e-02 2.69710120e-03\n",
      " 1.96941633e-03 6.96067218e-03 1.84625867e-02 2.16771179e-02\n",
      " 1.42330837e-02 4.19134015e-03 5.10683807e-02 1.09433472e-03\n",
      " 1.26914840e-04 6.27684730e-04 1.10077399e-03 5.05492706e-03\n",
      " 2.62059638e-04 3.79891312e-03 4.64584897e-03 1.43388899e-03\n",
      " 2.00758028e-01]\n"
     ]
    },
    {
     "data": {
      "image/png": "[encoded data removed]",
      "text/plain": [
       "<Figure size 432x288 with 1 Axes>"
      ]
     },
     "metadata": {
      "needs_background": "light"
     },
     "output_type": "display_data"
    }
   ],
   "source": [
    "model = ExtraTreesClassifier()\n",
    "model.fit(xtrain, ytrain)\n",
    "print(model.feature_importances_)  # use inbuilt class feature_importances of tree based classifiers\n",
    "# plot graph of feature importances for better visualization\n",
    "feat_importances = pd.Series(model.feature_importances_, index=xtrain.columns)\n",
    "feat_importances.nlargest(10).plot(kind='barh')\n",
    "plt.show()"
   ]
  },
  {
   "cell_type": "code",
   "execution_count": null,
   "metadata": {},
   "outputs": [],
   "source": []
  }
 ],
 "metadata": {
  "interpreter": {
   "hash": "a66fe325ee2dc5b6b5e2e5cb931bfdd2e905fc1ccf763575545c6f312bcbb55b"
  },
  "kernelspec": {
   "display_name": "Python 3.7.7 64-bit",
   "language": "python",
   "name": "python3"
  },
  "language_info": {
   "codemirror_mode": {
    "name": "ipython",
    "version": 3
   },
   "file_extension": ".py",
   "mimetype": "text/x-python",
   "name": "python",
   "nbconvert_exporter": "python",
   "pygments_lexer": "ipython3",
   "version": "3.7.7"
  },
  "orig_nbformat": 4
 },
 "nbformat": 4,
 "nbformat_minor": 2
}
